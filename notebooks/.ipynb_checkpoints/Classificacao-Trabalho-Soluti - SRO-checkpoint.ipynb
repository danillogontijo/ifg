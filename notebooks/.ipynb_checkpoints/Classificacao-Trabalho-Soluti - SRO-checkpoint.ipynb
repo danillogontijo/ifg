{
 "cells": [
  {
   "cell_type": "markdown",
   "metadata": {
    "id": "97dTZaTQoQyJ"
   },
   "source": [
    "# CRISP-DM: Entendimento dos Dados\n"
   ]
  },
  {
   "cell_type": "markdown",
   "metadata": {
    "id": "mxw9kQkNmscQ"
   },
   "source": [
    "## SRO (Classificação)\n"
   ]
  },
  {
   "cell_type": "code",
   "execution_count": 1,
   "metadata": {
    "colab": {
     "base_uri": "https://localhost:8080/"
    },
    "executionInfo": {
     "elapsed": 703,
     "status": "ok",
     "timestamp": 1638231294713,
     "user": {
      "displayName": "Danillo Gontijo",
      "photoUrl": "https://lh3.googleusercontent.com/a-/AOh14Gg1h8fFNNNJjKINUiMNghzQ79AtxSDNPOUmBW0B=s64",
      "userId": "07616685861784891937"
     },
     "user_tz": 180
    },
    "id": "hAInE2Q9mlLJ",
    "outputId": "1f5bf3f6-c3c0-464f-e9fc-f75c5343b518"
   },
   "outputs": [],
   "source": [
    "#!wget https://github.com/danillogontijo/ifg/raw/main/datasets/soluti/SRO.csv"
   ]
  },
  {
   "cell_type": "markdown",
   "metadata": {
    "id": "py78u4ibm1rx"
   },
   "source": [
    "## Imports\n"
   ]
  },
  {
   "cell_type": "code",
   "execution_count": 2,
   "metadata": {
    "executionInfo": {
     "elapsed": 265,
     "status": "ok",
     "timestamp": 1638238278575,
     "user": {
      "displayName": "Danillo Gontijo",
      "photoUrl": "https://lh3.googleusercontent.com/a-/AOh14Gg1h8fFNNNJjKINUiMNghzQ79AtxSDNPOUmBW0B=s64",
      "userId": "07616685861784891937"
     },
     "user_tz": 180
    },
    "id": "lGnX77gfmrId"
   },
   "outputs": [],
   "source": [
    "import pandas as pd\n",
    "import numpy as np\n",
    "import matplotlib.pyplot as plt\n",
    "import seaborn as sns\n",
    "from pylab import rcParams"
   ]
  },
  {
   "cell_type": "code",
   "execution_count": 3,
   "metadata": {
    "executionInfo": {
     "elapsed": 2,
     "status": "ok",
     "timestamp": 1638238278963,
     "user": {
      "displayName": "Danillo Gontijo",
      "photoUrl": "https://lh3.googleusercontent.com/a-/AOh14Gg1h8fFNNNJjKINUiMNghzQ79AtxSDNPOUmBW0B=s64",
      "userId": "07616685861784891937"
     },
     "user_tz": 180
    },
    "id": "6umMD3o_nrXW"
   },
   "outputs": [],
   "source": [
    "# Exibir gráficos dentro do Jupyter Notebook\n",
    "%matplotlib inline\n",
    "\n",
    "# Definir tamanho padrão para os gráficos\n",
    "rcParams['figure.figsize'] = 17, 4"
   ]
  },
  {
   "cell_type": "markdown",
   "metadata": {
    "id": "Szdtz-aVnGAt"
   },
   "source": [
    "## Carregar Dataset\n"
   ]
  },
  {
   "cell_type": "code",
   "execution_count": 4,
   "metadata": {
    "executionInfo": {
     "elapsed": 677,
     "status": "ok",
     "timestamp": 1638238279638,
     "user": {
      "displayName": "Danillo Gontijo",
      "photoUrl": "https://lh3.googleusercontent.com/a-/AOh14Gg1h8fFNNNJjKINUiMNghzQ79AtxSDNPOUmBW0B=s64",
      "userId": "07616685861784891937"
     },
     "user_tz": 180
    },
    "id": "aGPtLVjMm4lC"
   },
   "outputs": [],
   "source": [
    "dataset = pd.read_csv('../datasets/soluti/SRO.csv')"
   ]
  },
  {
   "cell_type": "code",
   "execution_count": 5,
   "metadata": {
    "colab": {
     "base_uri": "https://localhost:8080/"
    },
    "executionInfo": {
     "elapsed": 11,
     "status": "ok",
     "timestamp": 1638238279638,
     "user": {
      "displayName": "Danillo Gontijo",
      "photoUrl": "https://lh3.googleusercontent.com/a-/AOh14Gg1h8fFNNNJjKINUiMNghzQ79AtxSDNPOUmBW0B=s64",
      "userId": "07616685861784891937"
     },
     "user_tz": 180
    },
    "id": "m-neqOpLnTgO",
    "outputId": "fddf7ed0-69c9-4187-f236-f868f4feb294"
   },
   "outputs": [
    {
     "data": {
      "text/plain": [
       "solicitacao_certificado    object\n",
       "midia_certificado          object\n",
       "data_suporte               object\n",
       "motivo_suporte             object\n",
       "acesso_remoto_suporte      object\n",
       "cpf                        object\n",
       "cnpj                       object\n",
       "dtype: object"
      ]
     },
     "execution_count": 5,
     "metadata": {},
     "output_type": "execute_result"
    }
   ],
   "source": [
    "dataset.dtypes"
   ]
  },
  {
   "cell_type": "code",
   "execution_count": 6,
   "metadata": {
    "colab": {
     "base_uri": "https://localhost:8080/"
    },
    "executionInfo": {
     "elapsed": 8,
     "status": "ok",
     "timestamp": 1638238279638,
     "user": {
      "displayName": "Danillo Gontijo",
      "photoUrl": "https://lh3.googleusercontent.com/a-/AOh14Gg1h8fFNNNJjKINUiMNghzQ79AtxSDNPOUmBW0B=s64",
      "userId": "07616685861784891937"
     },
     "user_tz": 180
    },
    "id": "HnAnJmCRobNC",
    "outputId": "9005906d-dcc9-4177-acb2-c15d837c05f3"
   },
   "outputs": [
    {
     "name": "stdout",
     "output_type": "stream",
     "text": [
      "O dataset contém  289221 instâncias e  7  atributos.\n"
     ]
    }
   ],
   "source": [
    "# [0] = Quantidade de instâncias\n",
    "# [1] = Quantidade de atributos\n",
    "print(\"O dataset contém \", dataset.shape[0], \"instâncias e \", dataset.shape[1], \" atributos.\")"
   ]
  },
  {
   "cell_type": "code",
   "execution_count": 7,
   "metadata": {
    "colab": {
     "base_uri": "https://localhost:8080/",
     "height": 713
    },
    "executionInfo": {
     "elapsed": 6,
     "status": "ok",
     "timestamp": 1638238279639,
     "user": {
      "displayName": "Danillo Gontijo",
      "photoUrl": "https://lh3.googleusercontent.com/a-/AOh14Gg1h8fFNNNJjKINUiMNghzQ79AtxSDNPOUmBW0B=s64",
      "userId": "07616685861784891937"
     },
     "user_tz": 180
    },
    "id": "348VHJ7_ohf2",
    "outputId": "d808721b-0e9c-4603-bb23-fb10ef80cca5"
   },
   "outputs": [
    {
     "data": {
      "text/html": [
       "<div>\n",
       "<style scoped>\n",
       "    .dataframe tbody tr th:only-of-type {\n",
       "        vertical-align: middle;\n",
       "    }\n",
       "\n",
       "    .dataframe tbody tr th {\n",
       "        vertical-align: top;\n",
       "    }\n",
       "\n",
       "    .dataframe thead th {\n",
       "        text-align: right;\n",
       "    }\n",
       "</style>\n",
       "<table border=\"1\" class=\"dataframe\">\n",
       "  <thead>\n",
       "    <tr style=\"text-align: right;\">\n",
       "      <th></th>\n",
       "      <th>solicitacao_certificado</th>\n",
       "      <th>midia_certificado</th>\n",
       "      <th>data_suporte</th>\n",
       "      <th>motivo_suporte</th>\n",
       "      <th>acesso_remoto_suporte</th>\n",
       "      <th>cpf</th>\n",
       "      <th>cnpj</th>\n",
       "    </tr>\n",
       "  </thead>\n",
       "  <tbody>\n",
       "    <tr>\n",
       "      <th>150423</th>\n",
       "      <td>11DE1910024B717C</td>\n",
       "      <td>Nenhum</td>\n",
       "      <td>2019-10-31</td>\n",
       "      <td>ERRO DENTRO DA CONECTIVIDADE</td>\n",
       "      <td>Sim</td>\n",
       "      <td>fc31539243a735d4ab9228375302b3ee</td>\n",
       "      <td>NaN</td>\n",
       "    </tr>\n",
       "    <tr>\n",
       "      <th>73495</th>\n",
       "      <td>11DE1806055F8E1F</td>\n",
       "      <td>Token</td>\n",
       "      <td>2018-06-08</td>\n",
       "      <td>DUVIDA NA BAIXA DO DRIVER</td>\n",
       "      <td>Sim</td>\n",
       "      <td>NaN</td>\n",
       "      <td>8402e7a5c87ac49e35cc2057653acb53</td>\n",
       "    </tr>\n",
       "    <tr>\n",
       "      <th>106783</th>\n",
       "      <td>52011901044B0036</td>\n",
       "      <td>Nenhum</td>\n",
       "      <td>2019-01-08</td>\n",
       "      <td>DUVIDA NA BAIXA DO CERTIFICADO DIGITAL</td>\n",
       "      <td>Sim</td>\n",
       "      <td>NaN</td>\n",
       "      <td>e9dccc71f16a692d5498e46a20a35654</td>\n",
       "    </tr>\n",
       "    <tr>\n",
       "      <th>282211</th>\n",
       "      <td>11DE2109145A8CAC</td>\n",
       "      <td>Nenhum</td>\n",
       "      <td>2021-09-14</td>\n",
       "      <td>A1- DUVIDA NA BAIXA</td>\n",
       "      <td>Sim</td>\n",
       "      <td>NaN</td>\n",
       "      <td>f0fbbc2a0f95959b22db7e0b37d8d086</td>\n",
       "    </tr>\n",
       "    <tr>\n",
       "      <th>272636</th>\n",
       "      <td>229E20110960BCF0</td>\n",
       "      <td>Nenhum</td>\n",
       "      <td>2021-07-29</td>\n",
       "      <td>A1- INSTALAÇÃO</td>\n",
       "      <td>Sim</td>\n",
       "      <td>NaN</td>\n",
       "      <td>42e24168338ef60c00653019a36eca27</td>\n",
       "    </tr>\n",
       "    <tr>\n",
       "      <th>504</th>\n",
       "      <td>10F81701115AF9C3</td>\n",
       "      <td>Token</td>\n",
       "      <td>2017-01-12</td>\n",
       "      <td>DUVIDAS NA INSTALAÇÃO DO DRIVER DO TOKEN</td>\n",
       "      <td>Sim</td>\n",
       "      <td>873b53fd00f91f5e892a860feda74a0b</td>\n",
       "      <td>NaN</td>\n",
       "    </tr>\n",
       "    <tr>\n",
       "      <th>220669</th>\n",
       "      <td>11DE20113038D35A</td>\n",
       "      <td>Nenhum</td>\n",
       "      <td>2020-11-30</td>\n",
       "      <td>SOLICITAÇÃO EM PROCESSAMENTO NO PSBIO</td>\n",
       "      <td>Não</td>\n",
       "      <td>NaN</td>\n",
       "      <td>e956e0e1696ad55caf88346cc9dbcc94</td>\n",
       "    </tr>\n",
       "    <tr>\n",
       "      <th>276173</th>\n",
       "      <td>7E0E21051954B3B0</td>\n",
       "      <td>Nenhum</td>\n",
       "      <td>2021-08-13</td>\n",
       "      <td>DUVIDA AO ASSINAR DIGITALMENTE</td>\n",
       "      <td>Sim</td>\n",
       "      <td>NaN</td>\n",
       "      <td>e967da34b5266f4ede9cab03c3602f23</td>\n",
       "    </tr>\n",
       "    <tr>\n",
       "      <th>189855</th>\n",
       "      <td>335620020766C16C</td>\n",
       "      <td>Nenhum</td>\n",
       "      <td>2020-07-02</td>\n",
       "      <td>A1- DUVIDA NA EXPORTAÇÃO</td>\n",
       "      <td>Sim</td>\n",
       "      <td>adf07d3872d9605b47c3e27f441a5fe4</td>\n",
       "      <td>NaN</td>\n",
       "    </tr>\n",
       "    <tr>\n",
       "      <th>10214</th>\n",
       "      <td>10F41702164CB505</td>\n",
       "      <td>Cartão</td>\n",
       "      <td>2017-03-28</td>\n",
       "      <td>CARTAO/TOKEN NÃO RECONHECE NO COMPUTADOR</td>\n",
       "      <td>Sim</td>\n",
       "      <td>NaN</td>\n",
       "      <td>b064b9a591477dbbcc6dd81425dc0d92</td>\n",
       "    </tr>\n",
       "  </tbody>\n",
       "</table>\n",
       "</div>"
      ],
      "text/plain": [
       "       solicitacao_certificado midia_certificado data_suporte  \\\n",
       "150423        11DE1910024B717C            Nenhum   2019-10-31   \n",
       "73495         11DE1806055F8E1F             Token   2018-06-08   \n",
       "106783        52011901044B0036            Nenhum   2019-01-08   \n",
       "282211        11DE2109145A8CAC            Nenhum   2021-09-14   \n",
       "272636        229E20110960BCF0            Nenhum   2021-07-29   \n",
       "504           10F81701115AF9C3             Token   2017-01-12   \n",
       "220669        11DE20113038D35A            Nenhum   2020-11-30   \n",
       "276173        7E0E21051954B3B0            Nenhum   2021-08-13   \n",
       "189855        335620020766C16C            Nenhum   2020-07-02   \n",
       "10214         10F41702164CB505            Cartão   2017-03-28   \n",
       "\n",
       "                                  motivo_suporte acesso_remoto_suporte  \\\n",
       "150423              ERRO DENTRO DA CONECTIVIDADE                   Sim   \n",
       "73495                  DUVIDA NA BAIXA DO DRIVER                   Sim   \n",
       "106783    DUVIDA NA BAIXA DO CERTIFICADO DIGITAL                   Sim   \n",
       "282211                       A1- DUVIDA NA BAIXA                   Sim   \n",
       "272636                            A1- INSTALAÇÃO                   Sim   \n",
       "504     DUVIDAS NA INSTALAÇÃO DO DRIVER DO TOKEN                   Sim   \n",
       "220669     SOLICITAÇÃO EM PROCESSAMENTO NO PSBIO                   Não   \n",
       "276173            DUVIDA AO ASSINAR DIGITALMENTE                   Sim   \n",
       "189855                  A1- DUVIDA NA EXPORTAÇÃO                   Sim   \n",
       "10214   CARTAO/TOKEN NÃO RECONHECE NO COMPUTADOR                   Sim   \n",
       "\n",
       "                                     cpf                              cnpj  \n",
       "150423  fc31539243a735d4ab9228375302b3ee                               NaN  \n",
       "73495                                NaN  8402e7a5c87ac49e35cc2057653acb53  \n",
       "106783                               NaN  e9dccc71f16a692d5498e46a20a35654  \n",
       "282211                               NaN  f0fbbc2a0f95959b22db7e0b37d8d086  \n",
       "272636                               NaN  42e24168338ef60c00653019a36eca27  \n",
       "504     873b53fd00f91f5e892a860feda74a0b                               NaN  \n",
       "220669                               NaN  e956e0e1696ad55caf88346cc9dbcc94  \n",
       "276173                               NaN  e967da34b5266f4ede9cab03c3602f23  \n",
       "189855  adf07d3872d9605b47c3e27f441a5fe4                               NaN  \n",
       "10214                                NaN  b064b9a591477dbbcc6dd81425dc0d92  "
      ]
     },
     "execution_count": 7,
     "metadata": {},
     "output_type": "execute_result"
    }
   ],
   "source": [
    "dataset.sample(10)"
   ]
  },
  {
   "cell_type": "code",
   "execution_count": 8,
   "metadata": {
    "colab": {
     "base_uri": "https://localhost:8080/",
     "height": 247
    },
    "executionInfo": {
     "elapsed": 393,
     "status": "ok",
     "timestamp": 1638238280027,
     "user": {
      "displayName": "Danillo Gontijo",
      "photoUrl": "https://lh3.googleusercontent.com/a-/AOh14Gg1h8fFNNNJjKINUiMNghzQ79AtxSDNPOUmBW0B=s64",
      "userId": "07616685861784891937"
     },
     "user_tz": 180
    },
    "id": "bRy1kt_NolM2",
    "outputId": "1e921a78-5916-4924-be2b-c47ac728d93b"
   },
   "outputs": [
    {
     "data": {
      "text/html": [
       "<div>\n",
       "<style scoped>\n",
       "    .dataframe tbody tr th:only-of-type {\n",
       "        vertical-align: middle;\n",
       "    }\n",
       "\n",
       "    .dataframe tbody tr th {\n",
       "        vertical-align: top;\n",
       "    }\n",
       "\n",
       "    .dataframe thead th {\n",
       "        text-align: right;\n",
       "    }\n",
       "</style>\n",
       "<table border=\"1\" class=\"dataframe\">\n",
       "  <thead>\n",
       "    <tr style=\"text-align: right;\">\n",
       "      <th></th>\n",
       "      <th>solicitacao_certificado</th>\n",
       "      <th>midia_certificado</th>\n",
       "      <th>data_suporte</th>\n",
       "      <th>motivo_suporte</th>\n",
       "      <th>acesso_remoto_suporte</th>\n",
       "      <th>cpf</th>\n",
       "      <th>cnpj</th>\n",
       "    </tr>\n",
       "  </thead>\n",
       "  <tbody>\n",
       "    <tr>\n",
       "      <th>count</th>\n",
       "      <td>289221</td>\n",
       "      <td>289221</td>\n",
       "      <td>289221</td>\n",
       "      <td>289221</td>\n",
       "      <td>289221</td>\n",
       "      <td>143793</td>\n",
       "      <td>145436</td>\n",
       "    </tr>\n",
       "    <tr>\n",
       "      <th>unique</th>\n",
       "      <td>189802</td>\n",
       "      <td>4</td>\n",
       "      <td>1456</td>\n",
       "      <td>188</td>\n",
       "      <td>2</td>\n",
       "      <td>80985</td>\n",
       "      <td>86478</td>\n",
       "    </tr>\n",
       "    <tr>\n",
       "      <th>top</th>\n",
       "      <td>111117082158140B</td>\n",
       "      <td>Nenhum</td>\n",
       "      <td>2021-05-04</td>\n",
       "      <td>DUVIDA NA BAIXA DO CERTIFICADO DIGITAL</td>\n",
       "      <td>Sim</td>\n",
       "      <td>0b79023c2c72f928b89d8c5a33988858</td>\n",
       "      <td>be10358225c6bc8e6e53f6ef2053ded6</td>\n",
       "    </tr>\n",
       "    <tr>\n",
       "      <th>freq</th>\n",
       "      <td>43</td>\n",
       "      <td>165109</td>\n",
       "      <td>412</td>\n",
       "      <td>35635</td>\n",
       "      <td>208113</td>\n",
       "      <td>68</td>\n",
       "      <td>32</td>\n",
       "    </tr>\n",
       "  </tbody>\n",
       "</table>\n",
       "</div>"
      ],
      "text/plain": [
       "       solicitacao_certificado midia_certificado data_suporte  \\\n",
       "count                   289221            289221       289221   \n",
       "unique                  189802                 4         1456   \n",
       "top           111117082158140B            Nenhum   2021-05-04   \n",
       "freq                        43            165109          412   \n",
       "\n",
       "                                motivo_suporte acesso_remoto_suporte  \\\n",
       "count                                   289221                289221   \n",
       "unique                                     188                     2   \n",
       "top     DUVIDA NA BAIXA DO CERTIFICADO DIGITAL                   Sim   \n",
       "freq                                     35635                208113   \n",
       "\n",
       "                                     cpf                              cnpj  \n",
       "count                             143793                            145436  \n",
       "unique                             80985                             86478  \n",
       "top     0b79023c2c72f928b89d8c5a33988858  be10358225c6bc8e6e53f6ef2053ded6  \n",
       "freq                                  68                                32  "
      ]
     },
     "execution_count": 8,
     "metadata": {},
     "output_type": "execute_result"
    }
   ],
   "source": [
    "dataset.describe()"
   ]
  },
  {
   "cell_type": "markdown",
   "metadata": {
    "id": "uypH_tVko2yR"
   },
   "source": [
    "### Verificar presença de valores nulos\n"
   ]
  },
  {
   "cell_type": "code",
   "execution_count": 9,
   "metadata": {
    "colab": {
     "base_uri": "https://localhost:8080/"
    },
    "executionInfo": {
     "elapsed": 425,
     "status": "ok",
     "timestamp": 1638238280449,
     "user": {
      "displayName": "Danillo Gontijo",
      "photoUrl": "https://lh3.googleusercontent.com/a-/AOh14Gg1h8fFNNNJjKINUiMNghzQ79AtxSDNPOUmBW0B=s64",
      "userId": "07616685861784891937"
     },
     "user_tz": 180
    },
    "id": "48-n4buQoxT6",
    "outputId": "7b5f1a64-8978-4901-f257-9704589fc8ae"
   },
   "outputs": [
    {
     "data": {
      "text/plain": [
       "solicitacao_certificado         0\n",
       "midia_certificado               0\n",
       "data_suporte                    0\n",
       "motivo_suporte                  0\n",
       "acesso_remoto_suporte           0\n",
       "cpf                        145428\n",
       "cnpj                       143785\n",
       "dtype: int64"
      ]
     },
     "execution_count": 9,
     "metadata": {},
     "output_type": "execute_result"
    }
   ],
   "source": [
    "# Quantidade absoluta\n",
    "totalNulos = (dataset.isnull()).sum()\n",
    "totalNulos"
   ]
  },
  {
   "cell_type": "markdown",
   "metadata": {
    "id": "kKx4Ck-PpFWW"
   },
   "source": [
    "###Separar atributos numéricos e categóricos"
   ]
  },
  {
   "cell_type": "code",
   "execution_count": 10,
   "metadata": {
    "colab": {
     "base_uri": "https://localhost:8080/"
    },
    "executionInfo": {
     "elapsed": 9,
     "status": "ok",
     "timestamp": 1638238280449,
     "user": {
      "displayName": "Danillo Gontijo",
      "photoUrl": "https://lh3.googleusercontent.com/a-/AOh14Gg1h8fFNNNJjKINUiMNghzQ79AtxSDNPOUmBW0B=s64",
      "userId": "07616685861784891937"
     },
     "user_tz": 180
    },
    "id": "o2piaG_ho6n0",
    "outputId": "ac251682-1eb0-4f43-ccfb-c5b2207c491a"
   },
   "outputs": [
    {
     "data": {
      "text/plain": [
       "solicitacao_certificado     0.000000\n",
       "midia_certificado           0.000000\n",
       "data_suporte                0.000000\n",
       "motivo_suporte              0.000000\n",
       "acesso_remoto_suporte       0.000000\n",
       "cpf                        50.282656\n",
       "cnpj                       49.714578\n",
       "dtype: float64"
      ]
     },
     "execution_count": 10,
     "metadata": {},
     "output_type": "execute_result"
    }
   ],
   "source": [
    "# Percentual\n",
    "percentualNulos = (totalNulos / len(dataset)) * 100\n",
    "percentualNulos"
   ]
  },
  {
   "cell_type": "code",
   "execution_count": 11,
   "metadata": {
    "executionInfo": {
     "elapsed": 6,
     "status": "ok",
     "timestamp": 1638238280449,
     "user": {
      "displayName": "Danillo Gontijo",
      "photoUrl": "https://lh3.googleusercontent.com/a-/AOh14Gg1h8fFNNNJjKINUiMNghzQ79AtxSDNPOUmBW0B=s64",
      "userId": "07616685861784891937"
     },
     "user_tz": 180
    },
    "id": "g9mdBqr8pOIo"
   },
   "outputs": [
    {
     "name": "stderr",
     "output_type": "stream",
     "text": [
      "/var/folders/k9/y3lclsf94w13thblk7gn18yh0000gn/T/ipykernel_3322/1582418002.py:2: FutureWarning: casting datetime64[ns] values to int64 with .astype(...) is deprecated and will raise in a future version. Use .view(...) instead.\n",
      "  dataset['data_suporte'] = dataset['data_suporte'].astype('int64') // 10**9\n"
     ]
    }
   ],
   "source": [
    "dataset['data_suporte']= pd.to_datetime(dataset['data_suporte'])\n",
    "dataset['data_suporte'] = dataset['data_suporte'].astype('int64') // 10**9\n",
    "# dataset['solicitacao_certificado'].astype(str)"
   ]
  },
  {
   "cell_type": "code",
   "execution_count": 12,
   "metadata": {
    "colab": {
     "base_uri": "https://localhost:8080/"
    },
    "executionInfo": {
     "elapsed": 7,
     "status": "ok",
     "timestamp": 1638238280450,
     "user": {
      "displayName": "Danillo Gontijo",
      "photoUrl": "https://lh3.googleusercontent.com/a-/AOh14Gg1h8fFNNNJjKINUiMNghzQ79AtxSDNPOUmBW0B=s64",
      "userId": "07616685861784891937"
     },
     "user_tz": 180
    },
    "id": "upVesTUwrl-R",
    "outputId": "df07294e-abb1-435d-f80d-dad3a7c1f775"
   },
   "outputs": [
    {
     "data": {
      "text/plain": [
       "Index(['midia_certificado', 'motivo_suporte', 'acesso_remoto_suporte'], dtype='object')"
      ]
     },
     "execution_count": 12,
     "metadata": {},
     "output_type": "execute_result"
    }
   ],
   "source": [
    "categoricos = dataset[['midia_certificado', 'motivo_suporte', 'acesso_remoto_suporte']].columns #(dataset.select_dtypes(include=['object'])).columns\n",
    "categoricos"
   ]
  },
  {
   "cell_type": "markdown",
   "metadata": {
    "id": "VJBLI3rovyiY"
   },
   "source": [
    "### Visualizar distribuição dos dados (atributos categóricos)"
   ]
  },
  {
   "cell_type": "code",
   "execution_count": 13,
   "metadata": {
    "colab": {
     "base_uri": "https://localhost:8080/",
     "height": 774
    },
    "executionInfo": {
     "elapsed": 5258,
     "status": "ok",
     "timestamp": 1638238285704,
     "user": {
      "displayName": "Danillo Gontijo",
      "photoUrl": "https://lh3.googleusercontent.com/a-/AOh14Gg1h8fFNNNJjKINUiMNghzQ79AtxSDNPOUmBW0B=s64",
      "userId": "07616685861784891937"
     },
     "user_tz": 180
    },
    "id": "DmD00Zwsvb_s",
    "outputId": "868cc75e-f8a2-4f55-dee1-dde2f40e1f54"
   },
   "outputs": [
    {
     "data": {
      "image/png": "[encoded data removed]",
      "text/plain": [
       "<Figure size 1224x288 with 3 Axes>"
      ]
     },
     "metadata": {
      "needs_background": "light"
     },
     "output_type": "display_data"
    }
   ],
   "source": [
    "fig, ax = plt.subplots(ncols=len(categoricos), nrows=1)\n",
    "plt.suptitle(\"Gráficos de Barra dos Atributos Categóricos\")\n",
    "\n",
    "# Gráfico para cada atributo categórico\n",
    "for i in range(0, len(categoricos)):\n",
    "    feature = categoricos[i]\n",
    "    ax[i].set_title(feature)\n",
    "    dataset[feature].value_counts().plot(kind='bar', ax=ax[i])"
   ]
  },
  {
   "cell_type": "markdown",
   "metadata": {
    "id": "baizUdNRXdXX"
   },
   "source": [
    "## Tipos de Motivos do Suporte"
   ]
  },
  {
   "cell_type": "code",
   "execution_count": 14,
   "metadata": {
    "colab": {
     "base_uri": "https://localhost:8080/",
     "height": 490
    },
    "executionInfo": {
     "elapsed": 30,
     "status": "ok",
     "timestamp": 1638238285705,
     "user": {
      "displayName": "Danillo Gontijo",
      "photoUrl": "https://lh3.googleusercontent.com/a-/AOh14Gg1h8fFNNNJjKINUiMNghzQ79AtxSDNPOUmBW0B=s64",
      "userId": "07616685861784891937"
     },
     "user_tz": 180
    },
    "id": "oimsTKNjXkCb",
    "outputId": "55790206-5efa-4d4b-ba20-b795b42e5206"
   },
   "outputs": [
    {
     "data": {
      "text/html": [
       "<div>\n",
       "<style scoped>\n",
       "    .dataframe tbody tr th:only-of-type {\n",
       "        vertical-align: middle;\n",
       "    }\n",
       "\n",
       "    .dataframe tbody tr th {\n",
       "        vertical-align: top;\n",
       "    }\n",
       "\n",
       "    .dataframe thead th {\n",
       "        text-align: right;\n",
       "    }\n",
       "</style>\n",
       "<table border=\"1\" class=\"dataframe\">\n",
       "  <thead>\n",
       "    <tr style=\"text-align: right;\">\n",
       "      <th></th>\n",
       "      <th>solicitacao_certificado</th>\n",
       "      <th>midia_certificado</th>\n",
       "      <th>data_suporte</th>\n",
       "      <th>acesso_remoto_suporte</th>\n",
       "      <th>cpf</th>\n",
       "      <th>cnpj</th>\n",
       "    </tr>\n",
       "    <tr>\n",
       "      <th>motivo_suporte</th>\n",
       "      <th></th>\n",
       "      <th></th>\n",
       "      <th></th>\n",
       "      <th></th>\n",
       "      <th></th>\n",
       "      <th></th>\n",
       "    </tr>\n",
       "  </thead>\n",
       "  <tbody>\n",
       "    <tr>\n",
       "      <th>A1- ACOMPANHAMENTO DE CHAMADO</th>\n",
       "      <td>347</td>\n",
       "      <td>347</td>\n",
       "      <td>347</td>\n",
       "      <td>347</td>\n",
       "      <td>110</td>\n",
       "      <td>237</td>\n",
       "    </tr>\n",
       "    <tr>\n",
       "      <th>A1- ALTERAÇÃO DA SENHA</th>\n",
       "      <td>1703</td>\n",
       "      <td>1703</td>\n",
       "      <td>1703</td>\n",
       "      <td>1703</td>\n",
       "      <td>553</td>\n",
       "      <td>1150</td>\n",
       "    </tr>\n",
       "    <tr>\n",
       "      <th>A1- DUVIDA NA BAIXA</th>\n",
       "      <td>23278</td>\n",
       "      <td>23278</td>\n",
       "      <td>23278</td>\n",
       "      <td>23278</td>\n",
       "      <td>6633</td>\n",
       "      <td>16647</td>\n",
       "    </tr>\n",
       "    <tr>\n",
       "      <th>A1- DUVIDA NA EXPORTAÇÃO</th>\n",
       "      <td>1007</td>\n",
       "      <td>1007</td>\n",
       "      <td>1007</td>\n",
       "      <td>1007</td>\n",
       "      <td>289</td>\n",
       "      <td>718</td>\n",
       "    </tr>\n",
       "    <tr>\n",
       "      <th>A1- DUVIDA NA UTILIZAÇÃO</th>\n",
       "      <td>6003</td>\n",
       "      <td>6003</td>\n",
       "      <td>6003</td>\n",
       "      <td>6003</td>\n",
       "      <td>2444</td>\n",
       "      <td>3559</td>\n",
       "    </tr>\n",
       "    <tr>\n",
       "      <th>...</th>\n",
       "      <td>...</td>\n",
       "      <td>...</td>\n",
       "      <td>...</td>\n",
       "      <td>...</td>\n",
       "      <td>...</td>\n",
       "      <td>...</td>\n",
       "    </tr>\n",
       "    <tr>\n",
       "      <th>VIDEOCONFERÊNCIA- CLIENTE NÃO APTO</th>\n",
       "      <td>59</td>\n",
       "      <td>59</td>\n",
       "      <td>59</td>\n",
       "      <td>59</td>\n",
       "      <td>37</td>\n",
       "      <td>22</td>\n",
       "    </tr>\n",
       "    <tr>\n",
       "      <th>VÍDEOCONFERÊNCIA- CLIENTE COM ERRO PARA AGENDAR</th>\n",
       "      <td>33</td>\n",
       "      <td>33</td>\n",
       "      <td>33</td>\n",
       "      <td>33</td>\n",
       "      <td>22</td>\n",
       "      <td>11</td>\n",
       "    </tr>\n",
       "    <tr>\n",
       "      <th>VÍDEOCONFERÊNCIA- CLIENTE COM ERRO PARA ANEXAR DOCUMENTOS</th>\n",
       "      <td>38</td>\n",
       "      <td>38</td>\n",
       "      <td>38</td>\n",
       "      <td>38</td>\n",
       "      <td>24</td>\n",
       "      <td>14</td>\n",
       "    </tr>\n",
       "    <tr>\n",
       "      <th>VÍDEOCONFERÊNCIA- E-MAIL DE CONFIRMAÇÃO DO AGENDAMENTO NÃO CHEGA</th>\n",
       "      <td>42</td>\n",
       "      <td>42</td>\n",
       "      <td>42</td>\n",
       "      <td>42</td>\n",
       "      <td>20</td>\n",
       "      <td>22</td>\n",
       "    </tr>\n",
       "    <tr>\n",
       "      <th>WINDOWS XP NÃO RECONHECE O CERTIFICADO COMO VÁLIDO</th>\n",
       "      <td>2</td>\n",
       "      <td>2</td>\n",
       "      <td>2</td>\n",
       "      <td>2</td>\n",
       "      <td>1</td>\n",
       "      <td>1</td>\n",
       "    </tr>\n",
       "  </tbody>\n",
       "</table>\n",
       "<p>188 rows × 6 columns</p>\n",
       "</div>"
      ],
      "text/plain": [
       "                                                    solicitacao_certificado  \\\n",
       "motivo_suporte                                                                \n",
       "A1- ACOMPANHAMENTO DE CHAMADO                                           347   \n",
       "A1- ALTERAÇÃO DA SENHA                                                 1703   \n",
       "A1- DUVIDA NA BAIXA                                                   23278   \n",
       "A1- DUVIDA NA EXPORTAÇÃO                                               1007   \n",
       "A1- DUVIDA NA UTILIZAÇÃO                                               6003   \n",
       "...                                                                     ...   \n",
       "VIDEOCONFERÊNCIA- CLIENTE NÃO APTO                                       59   \n",
       "VÍDEOCONFERÊNCIA- CLIENTE COM ERRO PARA AGENDAR                          33   \n",
       "VÍDEOCONFERÊNCIA- CLIENTE COM ERRO PARA ANEXAR ...                       38   \n",
       "VÍDEOCONFERÊNCIA- E-MAIL DE CONFIRMAÇÃO DO AGEN...                       42   \n",
       "WINDOWS XP NÃO RECONHECE O CERTIFICADO COMO VÁLIDO                        2   \n",
       "\n",
       "                                                    midia_certificado  \\\n",
       "motivo_suporte                                                          \n",
       "A1- ACOMPANHAMENTO DE CHAMADO                                     347   \n",
       "A1- ALTERAÇÃO DA SENHA                                           1703   \n",
       "A1- DUVIDA NA BAIXA                                             23278   \n",
       "A1- DUVIDA NA EXPORTAÇÃO                                         1007   \n",
       "A1- DUVIDA NA UTILIZAÇÃO                                         6003   \n",
       "...                                                               ...   \n",
       "VIDEOCONFERÊNCIA- CLIENTE NÃO APTO                                 59   \n",
       "VÍDEOCONFERÊNCIA- CLIENTE COM ERRO PARA AGENDAR                    33   \n",
       "VÍDEOCONFERÊNCIA- CLIENTE COM ERRO PARA ANEXAR ...                 38   \n",
       "VÍDEOCONFERÊNCIA- E-MAIL DE CONFIRMAÇÃO DO AGEN...                 42   \n",
       "WINDOWS XP NÃO RECONHECE O CERTIFICADO COMO VÁLIDO                  2   \n",
       "\n",
       "                                                    data_suporte  \\\n",
       "motivo_suporte                                                     \n",
       "A1- ACOMPANHAMENTO DE CHAMADO                                347   \n",
       "A1- ALTERAÇÃO DA SENHA                                      1703   \n",
       "A1- DUVIDA NA BAIXA                                        23278   \n",
       "A1- DUVIDA NA EXPORTAÇÃO                                    1007   \n",
       "A1- DUVIDA NA UTILIZAÇÃO                                    6003   \n",
       "...                                                          ...   \n",
       "VIDEOCONFERÊNCIA- CLIENTE NÃO APTO                            59   \n",
       "VÍDEOCONFERÊNCIA- CLIENTE COM ERRO PARA AGENDAR               33   \n",
       "VÍDEOCONFERÊNCIA- CLIENTE COM ERRO PARA ANEXAR ...            38   \n",
       "VÍDEOCONFERÊNCIA- E-MAIL DE CONFIRMAÇÃO DO AGEN...            42   \n",
       "WINDOWS XP NÃO RECONHECE O CERTIFICADO COMO VÁLIDO             2   \n",
       "\n",
       "                                                    acesso_remoto_suporte  \\\n",
       "motivo_suporte                                                              \n",
       "A1- ACOMPANHAMENTO DE CHAMADO                                         347   \n",
       "A1- ALTERAÇÃO DA SENHA                                               1703   \n",
       "A1- DUVIDA NA BAIXA                                                 23278   \n",
       "A1- DUVIDA NA EXPORTAÇÃO                                             1007   \n",
       "A1- DUVIDA NA UTILIZAÇÃO                                             6003   \n",
       "...                                                                   ...   \n",
       "VIDEOCONFERÊNCIA- CLIENTE NÃO APTO                                     59   \n",
       "VÍDEOCONFERÊNCIA- CLIENTE COM ERRO PARA AGENDAR                        33   \n",
       "VÍDEOCONFERÊNCIA- CLIENTE COM ERRO PARA ANEXAR ...                     38   \n",
       "VÍDEOCONFERÊNCIA- E-MAIL DE CONFIRMAÇÃO DO AGEN...                     42   \n",
       "WINDOWS XP NÃO RECONHECE O CERTIFICADO COMO VÁLIDO                      2   \n",
       "\n",
       "                                                     cpf   cnpj  \n",
       "motivo_suporte                                                   \n",
       "A1- ACOMPANHAMENTO DE CHAMADO                        110    237  \n",
       "A1- ALTERAÇÃO DA SENHA                               553   1150  \n",
       "A1- DUVIDA NA BAIXA                                 6633  16647  \n",
       "A1- DUVIDA NA EXPORTAÇÃO                             289    718  \n",
       "A1- DUVIDA NA UTILIZAÇÃO                            2444   3559  \n",
       "...                                                  ...    ...  \n",
       "VIDEOCONFERÊNCIA- CLIENTE NÃO APTO                    37     22  \n",
       "VÍDEOCONFERÊNCIA- CLIENTE COM ERRO PARA AGENDAR       22     11  \n",
       "VÍDEOCONFERÊNCIA- CLIENTE COM ERRO PARA ANEXAR ...    24     14  \n",
       "VÍDEOCONFERÊNCIA- E-MAIL DE CONFIRMAÇÃO DO AGEN...    20     22  \n",
       "WINDOWS XP NÃO RECONHECE O CERTIFICADO COMO VÁLIDO     1      1  \n",
       "\n",
       "[188 rows x 6 columns]"
      ]
     },
     "execution_count": 14,
     "metadata": {},
     "output_type": "execute_result"
    }
   ],
   "source": [
    "dataset.groupby(['motivo_suporte']).count()\n"
   ]
  },
  {
   "cell_type": "markdown",
   "metadata": {
    "id": "IRk34l2JZYeT"
   },
   "source": [
    "> Existem 188 tipos diferentes de motivos\n",
    "\n"
   ]
  },
  {
   "cell_type": "markdown",
   "metadata": {
    "id": "pFiZDIVxNQEC"
   },
   "source": [
    "# CRISP-DM: Preparação dos Dados\n"
   ]
  },
  {
   "cell_type": "markdown",
   "metadata": {
    "id": "yIaFUt5uQdul"
   },
   "source": [
    "## Imports"
   ]
  },
  {
   "cell_type": "code",
   "execution_count": 15,
   "metadata": {
    "executionInfo": {
     "elapsed": 29,
     "status": "ok",
     "timestamp": 1638238285706,
     "user": {
      "displayName": "Danillo Gontijo",
      "photoUrl": "https://lh3.googleusercontent.com/a-/AOh14Gg1h8fFNNNJjKINUiMNghzQ79AtxSDNPOUmBW0B=s64",
      "userId": "07616685861784891937"
     },
     "user_tz": 180
    },
    "id": "HjoFSCwSQgmx"
   },
   "outputs": [],
   "source": [
    "from sklearn.model_selection import train_test_split"
   ]
  },
  {
   "cell_type": "markdown",
   "metadata": {
    "id": "xjfA4drLNkWe"
   },
   "source": [
    "## Descartar identificador"
   ]
  },
  {
   "cell_type": "code",
   "execution_count": 16,
   "metadata": {
    "colab": {
     "base_uri": "https://localhost:8080/",
     "height": 206
    },
    "executionInfo": {
     "elapsed": 29,
     "status": "ok",
     "timestamp": 1638238285706,
     "user": {
      "displayName": "Danillo Gontijo",
      "photoUrl": "https://lh3.googleusercontent.com/a-/AOh14Gg1h8fFNNNJjKINUiMNghzQ79AtxSDNPOUmBW0B=s64",
      "userId": "07616685861784891937"
     },
     "user_tz": 180
    },
    "id": "RTjG29a9viwm",
    "outputId": "c73f5311-115d-4da8-ba75-7b8e9a7bca10"
   },
   "outputs": [
    {
     "data": {
      "text/html": [
       "<div>\n",
       "<style scoped>\n",
       "    .dataframe tbody tr th:only-of-type {\n",
       "        vertical-align: middle;\n",
       "    }\n",
       "\n",
       "    .dataframe tbody tr th {\n",
       "        vertical-align: top;\n",
       "    }\n",
       "\n",
       "    .dataframe thead th {\n",
       "        text-align: right;\n",
       "    }\n",
       "</style>\n",
       "<table border=\"1\" class=\"dataframe\">\n",
       "  <thead>\n",
       "    <tr style=\"text-align: right;\">\n",
       "      <th></th>\n",
       "      <th>midia_certificado</th>\n",
       "      <th>data_suporte</th>\n",
       "      <th>motivo_suporte</th>\n",
       "      <th>acesso_remoto_suporte</th>\n",
       "      <th>cpf</th>\n",
       "      <th>cnpj</th>\n",
       "    </tr>\n",
       "  </thead>\n",
       "  <tbody>\n",
       "    <tr>\n",
       "      <th>0</th>\n",
       "      <td>Cartão</td>\n",
       "      <td>1483660800</td>\n",
       "      <td>TESTAR CERTIFICADO ( E-CAC / CONECTIVIDADE )</td>\n",
       "      <td>Não</td>\n",
       "      <td>NaN</td>\n",
       "      <td>ee4f8938a136f9c867a621961a03fbfb</td>\n",
       "    </tr>\n",
       "    <tr>\n",
       "      <th>1</th>\n",
       "      <td>Nenhum</td>\n",
       "      <td>1483660800</td>\n",
       "      <td>DUVIDA NA BAIXA DO CERTIFICADO DIGITAL</td>\n",
       "      <td>Sim</td>\n",
       "      <td>NaN</td>\n",
       "      <td>a70460cb1943cad9269d7ce8d8138d9f</td>\n",
       "    </tr>\n",
       "    <tr>\n",
       "      <th>2</th>\n",
       "      <td>Nenhum</td>\n",
       "      <td>1483660800</td>\n",
       "      <td>DUVIDA NA INSTALAÇÃO DO CERTIFICADO DIGITAL (A1)</td>\n",
       "      <td>Sim</td>\n",
       "      <td>NaN</td>\n",
       "      <td>a70460cb1943cad9269d7ce8d8138d9f</td>\n",
       "    </tr>\n",
       "    <tr>\n",
       "      <th>3</th>\n",
       "      <td>Token</td>\n",
       "      <td>1483660800</td>\n",
       "      <td>DUVIDA NA BAIXA DO DRIVER</td>\n",
       "      <td>Não</td>\n",
       "      <td>NaN</td>\n",
       "      <td>e84c38a2a768af7ad0f4fdc6257a212c</td>\n",
       "    </tr>\n",
       "    <tr>\n",
       "      <th>4</th>\n",
       "      <td>Token</td>\n",
       "      <td>1483660800</td>\n",
       "      <td>DUVIDAS NA INSTALAÇÃO DO DRIVER DO TOKEN</td>\n",
       "      <td>Não</td>\n",
       "      <td>NaN</td>\n",
       "      <td>e84c38a2a768af7ad0f4fdc6257a212c</td>\n",
       "    </tr>\n",
       "  </tbody>\n",
       "</table>\n",
       "</div>"
      ],
      "text/plain": [
       "  midia_certificado  data_suporte  \\\n",
       "0            Cartão    1483660800   \n",
       "1            Nenhum    1483660800   \n",
       "2            Nenhum    1483660800   \n",
       "3             Token    1483660800   \n",
       "4             Token    1483660800   \n",
       "\n",
       "                                     motivo_suporte acesso_remoto_suporte  \\\n",
       "0      TESTAR CERTIFICADO ( E-CAC / CONECTIVIDADE )                   Não   \n",
       "1            DUVIDA NA BAIXA DO CERTIFICADO DIGITAL                   Sim   \n",
       "2  DUVIDA NA INSTALAÇÃO DO CERTIFICADO DIGITAL (A1)                   Sim   \n",
       "3                         DUVIDA NA BAIXA DO DRIVER                   Não   \n",
       "4          DUVIDAS NA INSTALAÇÃO DO DRIVER DO TOKEN                   Não   \n",
       "\n",
       "   cpf                              cnpj  \n",
       "0  NaN  ee4f8938a136f9c867a621961a03fbfb  \n",
       "1  NaN  a70460cb1943cad9269d7ce8d8138d9f  \n",
       "2  NaN  a70460cb1943cad9269d7ce8d8138d9f  \n",
       "3  NaN  e84c38a2a768af7ad0f4fdc6257a212c  \n",
       "4  NaN  e84c38a2a768af7ad0f4fdc6257a212c  "
      ]
     },
     "execution_count": 16,
     "metadata": {},
     "output_type": "execute_result"
    }
   ],
   "source": [
    "dataset.drop(['solicitacao_certificado'], axis=1, inplace=True)\n",
    "dataset.head()"
   ]
  },
  {
   "cell_type": "markdown",
   "metadata": {
    "id": "tNbSKTQLP-tX"
   },
   "source": [
    "## Separar conjuntos de treino (70%) e validação (30%)\n"
   ]
  },
  {
   "cell_type": "code",
   "execution_count": 17,
   "metadata": {
    "colab": {
     "base_uri": "https://localhost:8080/",
     "height": 528
    },
    "executionInfo": {
     "elapsed": 28,
     "status": "ok",
     "timestamp": 1638238285706,
     "user": {
      "displayName": "Danillo Gontijo",
      "photoUrl": "https://lh3.googleusercontent.com/a-/AOh14Gg1h8fFNNNJjKINUiMNghzQ79AtxSDNPOUmBW0B=s64",
      "userId": "07616685861784891937"
     },
     "user_tz": 180
    },
    "id": "SWnwHGqtNdTv",
    "outputId": "9e865374-4aad-458d-d8f2-650d8d0b2b7a"
   },
   "outputs": [
    {
     "data": {
      "text/html": [
       "<div>\n",
       "<style scoped>\n",
       "    .dataframe tbody tr th:only-of-type {\n",
       "        vertical-align: middle;\n",
       "    }\n",
       "\n",
       "    .dataframe tbody tr th {\n",
       "        vertical-align: top;\n",
       "    }\n",
       "\n",
       "    .dataframe thead th {\n",
       "        text-align: right;\n",
       "    }\n",
       "</style>\n",
       "<table border=\"1\" class=\"dataframe\">\n",
       "  <thead>\n",
       "    <tr style=\"text-align: right;\">\n",
       "      <th></th>\n",
       "      <th>midia_certificado</th>\n",
       "      <th>data_suporte</th>\n",
       "      <th>motivo_suporte</th>\n",
       "      <th>acesso_remoto_suporte</th>\n",
       "      <th>cpf</th>\n",
       "      <th>cnpj</th>\n",
       "    </tr>\n",
       "  </thead>\n",
       "  <tbody>\n",
       "    <tr>\n",
       "      <th>177058</th>\n",
       "      <td>Nenhum</td>\n",
       "      <td>1587945600</td>\n",
       "      <td>A1- ERRO NA BAIXA</td>\n",
       "      <td>Sim</td>\n",
       "      <td>NaN</td>\n",
       "      <td>2683200615dbcba3540098fcb6afc06a</td>\n",
       "    </tr>\n",
       "    <tr>\n",
       "      <th>231082</th>\n",
       "      <td>Nenhum</td>\n",
       "      <td>1611792000</td>\n",
       "      <td>A3- DUVIDA NA INSTALAÇÃO DO DRIVER</td>\n",
       "      <td>Sim</td>\n",
       "      <td>NaN</td>\n",
       "      <td>17f2015d880424d21a03fc69e11d110c</td>\n",
       "    </tr>\n",
       "    <tr>\n",
       "      <th>144965</th>\n",
       "      <td>Token</td>\n",
       "      <td>1569369600</td>\n",
       "      <td>CARTAO/TOKEN NÃO RECONHECE NO COMPUTADOR</td>\n",
       "      <td>Sim</td>\n",
       "      <td>f0c3fb71df9076bfe4359dfc5eeee7a1</td>\n",
       "      <td>NaN</td>\n",
       "    </tr>\n",
       "    <tr>\n",
       "      <th>175025</th>\n",
       "      <td>Nenhum</td>\n",
       "      <td>1586131200</td>\n",
       "      <td>A1- DUVIDA NA BAIXA</td>\n",
       "      <td>Sim</td>\n",
       "      <td>NaN</td>\n",
       "      <td>db4ca490206691850a6409a84e1415ad</td>\n",
       "    </tr>\n",
       "    <tr>\n",
       "      <th>109783</th>\n",
       "      <td>Nenhum</td>\n",
       "      <td>1548720000</td>\n",
       "      <td>DUVIDA NA BAIXA DO CERTIFICADO DIGITAL</td>\n",
       "      <td>Sim</td>\n",
       "      <td>NaN</td>\n",
       "      <td>776c3a3de43d0566802d0d87565fdd96</td>\n",
       "    </tr>\n",
       "    <tr>\n",
       "      <th>...</th>\n",
       "      <td>...</td>\n",
       "      <td>...</td>\n",
       "      <td>...</td>\n",
       "      <td>...</td>\n",
       "      <td>...</td>\n",
       "      <td>...</td>\n",
       "    </tr>\n",
       "    <tr>\n",
       "      <th>192130</th>\n",
       "      <td>Token</td>\n",
       "      <td>1594598400</td>\n",
       "      <td>A3- ALTERAÇÃO DA SENHA</td>\n",
       "      <td>Sim</td>\n",
       "      <td>80094266acd81199cd1c6327d5c3e4d2</td>\n",
       "      <td>NaN</td>\n",
       "    </tr>\n",
       "    <tr>\n",
       "      <th>282507</th>\n",
       "      <td>Token</td>\n",
       "      <td>1631664000</td>\n",
       "      <td>A3- DUVIDA NA SENHA</td>\n",
       "      <td>Sim</td>\n",
       "      <td>50c03220d035296ab0b7fbfd50b309c0</td>\n",
       "      <td>NaN</td>\n",
       "    </tr>\n",
       "    <tr>\n",
       "      <th>133302</th>\n",
       "      <td>Nenhum</td>\n",
       "      <td>1562716800</td>\n",
       "      <td>DUVIDA NA BAIXA DO CERTIFICADO DIGITAL</td>\n",
       "      <td>Sim</td>\n",
       "      <td>NaN</td>\n",
       "      <td>e8312849873bef4bfa11fef9f8dc975e</td>\n",
       "    </tr>\n",
       "    <tr>\n",
       "      <th>278746</th>\n",
       "      <td>Nenhum</td>\n",
       "      <td>1629849600</td>\n",
       "      <td>A1- REEMISSÃO</td>\n",
       "      <td>Sim</td>\n",
       "      <td>NaN</td>\n",
       "      <td>8620cfdf3715f600ee6a660f18f0b60c</td>\n",
       "    </tr>\n",
       "    <tr>\n",
       "      <th>213370</th>\n",
       "      <td>Nenhum</td>\n",
       "      <td>1603238400</td>\n",
       "      <td>BIRD ID- DUVIDA NA INSTALAÇÃO DO UTILITÁRIO DE...</td>\n",
       "      <td>Não</td>\n",
       "      <td>f3b4e571d50fcb01bc9ee1747b753424</td>\n",
       "      <td>NaN</td>\n",
       "    </tr>\n",
       "  </tbody>\n",
       "</table>\n",
       "<p>202454 rows × 6 columns</p>\n",
       "</div>"
      ],
      "text/plain": [
       "       midia_certificado  data_suporte  \\\n",
       "177058            Nenhum    1587945600   \n",
       "231082            Nenhum    1611792000   \n",
       "144965             Token    1569369600   \n",
       "175025            Nenhum    1586131200   \n",
       "109783            Nenhum    1548720000   \n",
       "...                  ...           ...   \n",
       "192130             Token    1594598400   \n",
       "282507             Token    1631664000   \n",
       "133302            Nenhum    1562716800   \n",
       "278746            Nenhum    1629849600   \n",
       "213370            Nenhum    1603238400   \n",
       "\n",
       "                                           motivo_suporte  \\\n",
       "177058                                  A1- ERRO NA BAIXA   \n",
       "231082                 A3- DUVIDA NA INSTALAÇÃO DO DRIVER   \n",
       "144965           CARTAO/TOKEN NÃO RECONHECE NO COMPUTADOR   \n",
       "175025                                A1- DUVIDA NA BAIXA   \n",
       "109783             DUVIDA NA BAIXA DO CERTIFICADO DIGITAL   \n",
       "...                                                   ...   \n",
       "192130                             A3- ALTERAÇÃO DA SENHA   \n",
       "282507                                A3- DUVIDA NA SENHA   \n",
       "133302             DUVIDA NA BAIXA DO CERTIFICADO DIGITAL   \n",
       "278746                                      A1- REEMISSÃO   \n",
       "213370  BIRD ID- DUVIDA NA INSTALAÇÃO DO UTILITÁRIO DE...   \n",
       "\n",
       "       acesso_remoto_suporte                               cpf  \\\n",
       "177058                   Sim                               NaN   \n",
       "231082                   Sim                               NaN   \n",
       "144965                   Sim  f0c3fb71df9076bfe4359dfc5eeee7a1   \n",
       "175025                   Sim                               NaN   \n",
       "109783                   Sim                               NaN   \n",
       "...                      ...                               ...   \n",
       "192130                   Sim  80094266acd81199cd1c6327d5c3e4d2   \n",
       "282507                   Sim  50c03220d035296ab0b7fbfd50b309c0   \n",
       "133302                   Sim                               NaN   \n",
       "278746                   Sim                               NaN   \n",
       "213370                   Não  f3b4e571d50fcb01bc9ee1747b753424   \n",
       "\n",
       "                                    cnpj  \n",
       "177058  2683200615dbcba3540098fcb6afc06a  \n",
       "231082  17f2015d880424d21a03fc69e11d110c  \n",
       "144965                               NaN  \n",
       "175025  db4ca490206691850a6409a84e1415ad  \n",
       "109783  776c3a3de43d0566802d0d87565fdd96  \n",
       "...                                  ...  \n",
       "192130                               NaN  \n",
       "282507                               NaN  \n",
       "133302  e8312849873bef4bfa11fef9f8dc975e  \n",
       "278746  8620cfdf3715f600ee6a660f18f0b60c  \n",
       "213370                               NaN  \n",
       "\n",
       "[202454 rows x 6 columns]"
      ]
     },
     "execution_count": 17,
     "metadata": {},
     "output_type": "execute_result"
    }
   ],
   "source": [
    "train, teste_split = train_test_split(dataset.copy(), test_size=0.3)\n",
    "train"
   ]
  },
  {
   "cell_type": "markdown",
   "metadata": {
    "id": "80X8z3plQQZM"
   },
   "source": [
    "### Tratar valores nulos"
   ]
  },
  {
   "cell_type": "code",
   "execution_count": 18,
   "metadata": {
    "colab": {
     "base_uri": "https://localhost:8080/"
    },
    "executionInfo": {
     "elapsed": 28,
     "status": "ok",
     "timestamp": 1638238285707,
     "user": {
      "displayName": "Danillo Gontijo",
      "photoUrl": "https://lh3.googleusercontent.com/a-/AOh14Gg1h8fFNNNJjKINUiMNghzQ79AtxSDNPOUmBW0B=s64",
      "userId": "07616685861784891937"
     },
     "user_tz": 180
    },
    "id": "6JGLWLR4QRcs",
    "outputId": "085f75d5-163b-4a62-82f7-8ecb10b03392"
   },
   "outputs": [
    {
     "data": {
      "text/plain": [
       "midia_certificado             0\n",
       "data_suporte                  0\n",
       "motivo_suporte                0\n",
       "acesso_remoto_suporte         0\n",
       "cpf                      101766\n",
       "cnpj                     100683\n",
       "dtype: int64"
      ]
     },
     "execution_count": 18,
     "metadata": {},
     "output_type": "execute_result"
    }
   ],
   "source": [
    "train.isnull().sum()"
   ]
  },
  {
   "cell_type": "code",
   "execution_count": 19,
   "metadata": {
    "colab": {
     "base_uri": "https://localhost:8080/",
     "height": 424
    },
    "executionInfo": {
     "elapsed": 25,
     "status": "ok",
     "timestamp": 1638238285707,
     "user": {
      "displayName": "Danillo Gontijo",
      "photoUrl": "https://lh3.googleusercontent.com/a-/AOh14Gg1h8fFNNNJjKINUiMNghzQ79AtxSDNPOUmBW0B=s64",
      "userId": "07616685861784891937"
     },
     "user_tz": 180
    },
    "id": "JHSuMidMQmLK",
    "outputId": "2fbcfa1f-f58b-40fc-e005-4411d5844a94"
   },
   "outputs": [
    {
     "data": {
      "text/html": [
       "<div>\n",
       "<style scoped>\n",
       "    .dataframe tbody tr th:only-of-type {\n",
       "        vertical-align: middle;\n",
       "    }\n",
       "\n",
       "    .dataframe tbody tr th {\n",
       "        vertical-align: top;\n",
       "    }\n",
       "\n",
       "    .dataframe thead th {\n",
       "        text-align: right;\n",
       "    }\n",
       "</style>\n",
       "<table border=\"1\" class=\"dataframe\">\n",
       "  <thead>\n",
       "    <tr style=\"text-align: right;\">\n",
       "      <th></th>\n",
       "      <th>midia_certificado</th>\n",
       "      <th>data_suporte</th>\n",
       "      <th>motivo_suporte</th>\n",
       "      <th>acesso_remoto_suporte</th>\n",
       "      <th>cpf</th>\n",
       "      <th>cnpj</th>\n",
       "    </tr>\n",
       "  </thead>\n",
       "  <tbody>\n",
       "    <tr>\n",
       "      <th>177058</th>\n",
       "      <td>Nenhum</td>\n",
       "      <td>1587945600</td>\n",
       "      <td>A1- ERRO NA BAIXA</td>\n",
       "      <td>Sim</td>\n",
       "      <td>0</td>\n",
       "      <td>1</td>\n",
       "    </tr>\n",
       "    <tr>\n",
       "      <th>231082</th>\n",
       "      <td>Nenhum</td>\n",
       "      <td>1611792000</td>\n",
       "      <td>A3- DUVIDA NA INSTALAÇÃO DO DRIVER</td>\n",
       "      <td>Sim</td>\n",
       "      <td>0</td>\n",
       "      <td>1</td>\n",
       "    </tr>\n",
       "    <tr>\n",
       "      <th>144965</th>\n",
       "      <td>Token</td>\n",
       "      <td>1569369600</td>\n",
       "      <td>CARTAO/TOKEN NÃO RECONHECE NO COMPUTADOR</td>\n",
       "      <td>Sim</td>\n",
       "      <td>1</td>\n",
       "      <td>0</td>\n",
       "    </tr>\n",
       "    <tr>\n",
       "      <th>175025</th>\n",
       "      <td>Nenhum</td>\n",
       "      <td>1586131200</td>\n",
       "      <td>A1- DUVIDA NA BAIXA</td>\n",
       "      <td>Sim</td>\n",
       "      <td>0</td>\n",
       "      <td>1</td>\n",
       "    </tr>\n",
       "    <tr>\n",
       "      <th>109783</th>\n",
       "      <td>Nenhum</td>\n",
       "      <td>1548720000</td>\n",
       "      <td>DUVIDA NA BAIXA DO CERTIFICADO DIGITAL</td>\n",
       "      <td>Sim</td>\n",
       "      <td>0</td>\n",
       "      <td>1</td>\n",
       "    </tr>\n",
       "    <tr>\n",
       "      <th>...</th>\n",
       "      <td>...</td>\n",
       "      <td>...</td>\n",
       "      <td>...</td>\n",
       "      <td>...</td>\n",
       "      <td>...</td>\n",
       "      <td>...</td>\n",
       "    </tr>\n",
       "    <tr>\n",
       "      <th>192130</th>\n",
       "      <td>Token</td>\n",
       "      <td>1594598400</td>\n",
       "      <td>A3- ALTERAÇÃO DA SENHA</td>\n",
       "      <td>Sim</td>\n",
       "      <td>1</td>\n",
       "      <td>0</td>\n",
       "    </tr>\n",
       "    <tr>\n",
       "      <th>282507</th>\n",
       "      <td>Token</td>\n",
       "      <td>1631664000</td>\n",
       "      <td>A3- DUVIDA NA SENHA</td>\n",
       "      <td>Sim</td>\n",
       "      <td>1</td>\n",
       "      <td>0</td>\n",
       "    </tr>\n",
       "    <tr>\n",
       "      <th>133302</th>\n",
       "      <td>Nenhum</td>\n",
       "      <td>1562716800</td>\n",
       "      <td>DUVIDA NA BAIXA DO CERTIFICADO DIGITAL</td>\n",
       "      <td>Sim</td>\n",
       "      <td>0</td>\n",
       "      <td>1</td>\n",
       "    </tr>\n",
       "    <tr>\n",
       "      <th>278746</th>\n",
       "      <td>Nenhum</td>\n",
       "      <td>1629849600</td>\n",
       "      <td>A1- REEMISSÃO</td>\n",
       "      <td>Sim</td>\n",
       "      <td>0</td>\n",
       "      <td>1</td>\n",
       "    </tr>\n",
       "    <tr>\n",
       "      <th>213370</th>\n",
       "      <td>Nenhum</td>\n",
       "      <td>1603238400</td>\n",
       "      <td>BIRD ID- DUVIDA NA INSTALAÇÃO DO UTILITÁRIO DE...</td>\n",
       "      <td>Não</td>\n",
       "      <td>1</td>\n",
       "      <td>0</td>\n",
       "    </tr>\n",
       "  </tbody>\n",
       "</table>\n",
       "<p>202454 rows × 6 columns</p>\n",
       "</div>"
      ],
      "text/plain": [
       "       midia_certificado  data_suporte  \\\n",
       "177058            Nenhum    1587945600   \n",
       "231082            Nenhum    1611792000   \n",
       "144965             Token    1569369600   \n",
       "175025            Nenhum    1586131200   \n",
       "109783            Nenhum    1548720000   \n",
       "...                  ...           ...   \n",
       "192130             Token    1594598400   \n",
       "282507             Token    1631664000   \n",
       "133302            Nenhum    1562716800   \n",
       "278746            Nenhum    1629849600   \n",
       "213370            Nenhum    1603238400   \n",
       "\n",
       "                                           motivo_suporte  \\\n",
       "177058                                  A1- ERRO NA BAIXA   \n",
       "231082                 A3- DUVIDA NA INSTALAÇÃO DO DRIVER   \n",
       "144965           CARTAO/TOKEN NÃO RECONHECE NO COMPUTADOR   \n",
       "175025                                A1- DUVIDA NA BAIXA   \n",
       "109783             DUVIDA NA BAIXA DO CERTIFICADO DIGITAL   \n",
       "...                                                   ...   \n",
       "192130                             A3- ALTERAÇÃO DA SENHA   \n",
       "282507                                A3- DUVIDA NA SENHA   \n",
       "133302             DUVIDA NA BAIXA DO CERTIFICADO DIGITAL   \n",
       "278746                                      A1- REEMISSÃO   \n",
       "213370  BIRD ID- DUVIDA NA INSTALAÇÃO DO UTILITÁRIO DE...   \n",
       "\n",
       "       acesso_remoto_suporte  cpf  cnpj  \n",
       "177058                   Sim    0     1  \n",
       "231082                   Sim    0     1  \n",
       "144965                   Sim    1     0  \n",
       "175025                   Sim    0     1  \n",
       "109783                   Sim    0     1  \n",
       "...                      ...  ...   ...  \n",
       "192130                   Sim    1     0  \n",
       "282507                   Sim    1     0  \n",
       "133302                   Sim    0     1  \n",
       "278746                   Sim    0     1  \n",
       "213370                   Não    1     0  \n",
       "\n",
       "[202454 rows x 6 columns]"
      ]
     },
     "execution_count": 19,
     "metadata": {},
     "output_type": "execute_result"
    }
   ],
   "source": [
    "# Imputando valor zero onde nao tem cpf ou cnpj\n",
    "for col in train[['cpf','cnpj']].columns:\n",
    "    train[col] = np.where(train[col].isnull(), 0, 1)\n",
    "\n",
    "train"
   ]
  },
  {
   "cell_type": "code",
   "execution_count": 20,
   "metadata": {
    "colab": {
     "base_uri": "https://localhost:8080/"
    },
    "executionInfo": {
     "elapsed": 25,
     "status": "ok",
     "timestamp": 1638238285707,
     "user": {
      "displayName": "Danillo Gontijo",
      "photoUrl": "https://lh3.googleusercontent.com/a-/AOh14Gg1h8fFNNNJjKINUiMNghzQ79AtxSDNPOUmBW0B=s64",
      "userId": "07616685861784891937"
     },
     "user_tz": 180
    },
    "id": "baRebivVQ4K1",
    "outputId": "97912e24-4923-4f00-be60-86719b5ce1f5"
   },
   "outputs": [
    {
     "data": {
      "text/plain": [
       "midia_certificado        0\n",
       "data_suporte             0\n",
       "motivo_suporte           0\n",
       "acesso_remoto_suporte    0\n",
       "cpf                      0\n",
       "cnpj                     0\n",
       "dtype: int64"
      ]
     },
     "execution_count": 20,
     "metadata": {},
     "output_type": "execute_result"
    }
   ],
   "source": [
    "train.isnull().sum()"
   ]
  },
  {
   "cell_type": "markdown",
   "metadata": {
    "id": "bsb2WJgVUwa8"
   },
   "source": [
    "## Converter variáveis categóricas em dummies (One Hot Encoding)\n"
   ]
  },
  {
   "cell_type": "code",
   "execution_count": 21,
   "metadata": {
    "colab": {
     "base_uri": "https://localhost:8080/",
     "height": 444
    },
    "executionInfo": {
     "elapsed": 566,
     "status": "ok",
     "timestamp": 1638238286251,
     "user": {
      "displayName": "Danillo Gontijo",
      "photoUrl": "https://lh3.googleusercontent.com/a-/AOh14Gg1h8fFNNNJjKINUiMNghzQ79AtxSDNPOUmBW0B=s64",
      "userId": "07616685861784891937"
     },
     "user_tz": 180
    },
    "id": "u4kUx2AEQ9Vm",
    "outputId": "6d1feaec-4654-4d59-847b-2a7777300c3a"
   },
   "outputs": [
    {
     "data": {
      "text/html": [
       "<div>\n",
       "<style scoped>\n",
       "    .dataframe tbody tr th:only-of-type {\n",
       "        vertical-align: middle;\n",
       "    }\n",
       "\n",
       "    .dataframe tbody tr th {\n",
       "        vertical-align: top;\n",
       "    }\n",
       "\n",
       "    .dataframe thead th {\n",
       "        text-align: right;\n",
       "    }\n",
       "</style>\n",
       "<table border=\"1\" class=\"dataframe\">\n",
       "  <thead>\n",
       "    <tr style=\"text-align: right;\">\n",
       "      <th></th>\n",
       "      <th>data_suporte</th>\n",
       "      <th>motivo_suporte</th>\n",
       "      <th>acesso_remoto_suporte</th>\n",
       "      <th>cpf</th>\n",
       "      <th>cnpj</th>\n",
       "      <th>midia_certificado_Cartão</th>\n",
       "      <th>midia_certificado_Nenhum</th>\n",
       "      <th>midia_certificado_Pocket</th>\n",
       "      <th>midia_certificado_Token</th>\n",
       "    </tr>\n",
       "  </thead>\n",
       "  <tbody>\n",
       "    <tr>\n",
       "      <th>177058</th>\n",
       "      <td>1587945600</td>\n",
       "      <td>5</td>\n",
       "      <td>1</td>\n",
       "      <td>0</td>\n",
       "      <td>1</td>\n",
       "      <td>0</td>\n",
       "      <td>1</td>\n",
       "      <td>0</td>\n",
       "      <td>0</td>\n",
       "    </tr>\n",
       "    <tr>\n",
       "      <th>231082</th>\n",
       "      <td>1611792000</td>\n",
       "      <td>16</td>\n",
       "      <td>1</td>\n",
       "      <td>0</td>\n",
       "      <td>1</td>\n",
       "      <td>0</td>\n",
       "      <td>1</td>\n",
       "      <td>0</td>\n",
       "      <td>0</td>\n",
       "    </tr>\n",
       "    <tr>\n",
       "      <th>144965</th>\n",
       "      <td>1569369600</td>\n",
       "      <td>50</td>\n",
       "      <td>1</td>\n",
       "      <td>1</td>\n",
       "      <td>0</td>\n",
       "      <td>0</td>\n",
       "      <td>0</td>\n",
       "      <td>0</td>\n",
       "      <td>1</td>\n",
       "    </tr>\n",
       "    <tr>\n",
       "      <th>175025</th>\n",
       "      <td>1586131200</td>\n",
       "      <td>2</td>\n",
       "      <td>1</td>\n",
       "      <td>0</td>\n",
       "      <td>1</td>\n",
       "      <td>0</td>\n",
       "      <td>1</td>\n",
       "      <td>0</td>\n",
       "      <td>0</td>\n",
       "    </tr>\n",
       "    <tr>\n",
       "      <th>109783</th>\n",
       "      <td>1548720000</td>\n",
       "      <td>82</td>\n",
       "      <td>1</td>\n",
       "      <td>0</td>\n",
       "      <td>1</td>\n",
       "      <td>0</td>\n",
       "      <td>1</td>\n",
       "      <td>0</td>\n",
       "      <td>0</td>\n",
       "    </tr>\n",
       "    <tr>\n",
       "      <th>...</th>\n",
       "      <td>...</td>\n",
       "      <td>...</td>\n",
       "      <td>...</td>\n",
       "      <td>...</td>\n",
       "      <td>...</td>\n",
       "      <td>...</td>\n",
       "      <td>...</td>\n",
       "      <td>...</td>\n",
       "      <td>...</td>\n",
       "    </tr>\n",
       "    <tr>\n",
       "      <th>192130</th>\n",
       "      <td>1594598400</td>\n",
       "      <td>13</td>\n",
       "      <td>1</td>\n",
       "      <td>1</td>\n",
       "      <td>0</td>\n",
       "      <td>0</td>\n",
       "      <td>0</td>\n",
       "      <td>0</td>\n",
       "      <td>1</td>\n",
       "    </tr>\n",
       "    <tr>\n",
       "      <th>282507</th>\n",
       "      <td>1631664000</td>\n",
       "      <td>24</td>\n",
       "      <td>1</td>\n",
       "      <td>1</td>\n",
       "      <td>0</td>\n",
       "      <td>0</td>\n",
       "      <td>0</td>\n",
       "      <td>0</td>\n",
       "      <td>1</td>\n",
       "    </tr>\n",
       "    <tr>\n",
       "      <th>133302</th>\n",
       "      <td>1562716800</td>\n",
       "      <td>82</td>\n",
       "      <td>1</td>\n",
       "      <td>0</td>\n",
       "      <td>1</td>\n",
       "      <td>0</td>\n",
       "      <td>1</td>\n",
       "      <td>0</td>\n",
       "      <td>0</td>\n",
       "    </tr>\n",
       "    <tr>\n",
       "      <th>278746</th>\n",
       "      <td>1629849600</td>\n",
       "      <td>11</td>\n",
       "      <td>1</td>\n",
       "      <td>0</td>\n",
       "      <td>1</td>\n",
       "      <td>0</td>\n",
       "      <td>1</td>\n",
       "      <td>0</td>\n",
       "      <td>0</td>\n",
       "    </tr>\n",
       "    <tr>\n",
       "      <th>213370</th>\n",
       "      <td>1603238400</td>\n",
       "      <td>41</td>\n",
       "      <td>0</td>\n",
       "      <td>1</td>\n",
       "      <td>0</td>\n",
       "      <td>0</td>\n",
       "      <td>1</td>\n",
       "      <td>0</td>\n",
       "      <td>0</td>\n",
       "    </tr>\n",
       "  </tbody>\n",
       "</table>\n",
       "<p>202454 rows × 9 columns</p>\n",
       "</div>"
      ],
      "text/plain": [
       "        data_suporte  motivo_suporte  acesso_remoto_suporte  cpf  cnpj  \\\n",
       "177058    1587945600               5                      1    0     1   \n",
       "231082    1611792000              16                      1    0     1   \n",
       "144965    1569369600              50                      1    1     0   \n",
       "175025    1586131200               2                      1    0     1   \n",
       "109783    1548720000              82                      1    0     1   \n",
       "...              ...             ...                    ...  ...   ...   \n",
       "192130    1594598400              13                      1    1     0   \n",
       "282507    1631664000              24                      1    1     0   \n",
       "133302    1562716800              82                      1    0     1   \n",
       "278746    1629849600              11                      1    0     1   \n",
       "213370    1603238400              41                      0    1     0   \n",
       "\n",
       "        midia_certificado_Cartão  midia_certificado_Nenhum  \\\n",
       "177058                         0                         1   \n",
       "231082                         0                         1   \n",
       "144965                         0                         0   \n",
       "175025                         0                         1   \n",
       "109783                         0                         1   \n",
       "...                          ...                       ...   \n",
       "192130                         0                         0   \n",
       "282507                         0                         0   \n",
       "133302                         0                         1   \n",
       "278746                         0                         1   \n",
       "213370                         0                         1   \n",
       "\n",
       "        midia_certificado_Pocket  midia_certificado_Token  \n",
       "177058                         0                        0  \n",
       "231082                         0                        0  \n",
       "144965                         0                        1  \n",
       "175025                         0                        0  \n",
       "109783                         0                        0  \n",
       "...                          ...                      ...  \n",
       "192130                         0                        1  \n",
       "282507                         0                        1  \n",
       "133302                         0                        0  \n",
       "278746                         0                        0  \n",
       "213370                         0                        0  \n",
       "\n",
       "[202454 rows x 9 columns]"
      ]
     },
     "execution_count": 21,
     "metadata": {},
     "output_type": "execute_result"
    }
   ],
   "source": [
    "train_dumies = pd.get_dummies(data=train, columns=['midia_certificado'])\n",
    "\n",
    "# Acesso Remoto Binário 1-Sim e 0-Não\n",
    "train_dumies['acesso_remoto_suporte'] = train_dumies['acesso_remoto_suporte'].map({'Sim': 1, 'Não': 0})\n",
    "\n",
    "# Converte coluna motivo_suporte (target) para valores numéricos categóricos \n",
    "train_dumies['motivo_suporte'] = train_dumies['motivo_suporte'].astype('category')\n",
    "cat_columns = train_dumies.select_dtypes(['category']).columns\n",
    "train_dumies[cat_columns] = train_dumies[cat_columns].apply(lambda x: x.cat.codes)\n",
    "\n",
    "train = train_dumies\n",
    "train"
   ]
  },
  {
   "cell_type": "markdown",
   "metadata": {
    "id": "B5VPdsbSclJN"
   },
   "source": [
    "# CRISP-DM: Modeling"
   ]
  },
  {
   "cell_type": "markdown",
   "metadata": {
    "id": "KG7vSmTFcoUx"
   },
   "source": [
    "## Imports"
   ]
  },
  {
   "cell_type": "code",
   "execution_count": 22,
   "metadata": {
    "executionInfo": {
     "elapsed": 11,
     "status": "ok",
     "timestamp": 1638238286252,
     "user": {
      "displayName": "Danillo Gontijo",
      "photoUrl": "https://lh3.googleusercontent.com/a-/AOh14Gg1h8fFNNNJjKINUiMNghzQ79AtxSDNPOUmBW0B=s64",
      "userId": "07616685861784891937"
     },
     "user_tz": 180
    },
    "id": "zy_4VK_DU40Y"
   },
   "outputs": [],
   "source": [
    "from sklearn.ensemble import RandomForestClassifier\n",
    "from sklearn.metrics import classification_report, accuracy_score"
   ]
  },
  {
   "cell_type": "markdown",
   "metadata": {
    "id": "x215PFf6cyh9"
   },
   "source": [
    "## Separar data target e features de treinamento"
   ]
  },
  {
   "cell_type": "code",
   "execution_count": 23,
   "metadata": {
    "colab": {
     "base_uri": "https://localhost:8080/",
     "height": 478
    },
    "executionInfo": {
     "elapsed": 11,
     "status": "ok",
     "timestamp": 1638238286252,
     "user": {
      "displayName": "Danillo Gontijo",
      "photoUrl": "https://lh3.googleusercontent.com/a-/AOh14Gg1h8fFNNNJjKINUiMNghzQ79AtxSDNPOUmBW0B=s64",
      "userId": "07616685861784891937"
     },
     "user_tz": 180
    },
    "id": "ynglYC3Dcy_M",
    "outputId": "4c616365-d0b5-4cec-8e1e-28cbf48d04e7"
   },
   "outputs": [
    {
     "name": "stdout",
     "output_type": "stream",
     "text": [
      "(202454, 8)\n",
      "(202454,)\n"
     ]
    },
    {
     "data": {
      "text/html": [
       "<div>\n",
       "<style scoped>\n",
       "    .dataframe tbody tr th:only-of-type {\n",
       "        vertical-align: middle;\n",
       "    }\n",
       "\n",
       "    .dataframe tbody tr th {\n",
       "        vertical-align: top;\n",
       "    }\n",
       "\n",
       "    .dataframe thead th {\n",
       "        text-align: right;\n",
       "    }\n",
       "</style>\n",
       "<table border=\"1\" class=\"dataframe\">\n",
       "  <thead>\n",
       "    <tr style=\"text-align: right;\">\n",
       "      <th></th>\n",
       "      <th>data_suporte</th>\n",
       "      <th>acesso_remoto_suporte</th>\n",
       "      <th>cpf</th>\n",
       "      <th>cnpj</th>\n",
       "      <th>midia_certificado_Cartão</th>\n",
       "      <th>midia_certificado_Nenhum</th>\n",
       "      <th>midia_certificado_Pocket</th>\n",
       "      <th>midia_certificado_Token</th>\n",
       "    </tr>\n",
       "  </thead>\n",
       "  <tbody>\n",
       "    <tr>\n",
       "      <th>177058</th>\n",
       "      <td>1587945600</td>\n",
       "      <td>1</td>\n",
       "      <td>0</td>\n",
       "      <td>1</td>\n",
       "      <td>0</td>\n",
       "      <td>1</td>\n",
       "      <td>0</td>\n",
       "      <td>0</td>\n",
       "    </tr>\n",
       "    <tr>\n",
       "      <th>231082</th>\n",
       "      <td>1611792000</td>\n",
       "      <td>1</td>\n",
       "      <td>0</td>\n",
       "      <td>1</td>\n",
       "      <td>0</td>\n",
       "      <td>1</td>\n",
       "      <td>0</td>\n",
       "      <td>0</td>\n",
       "    </tr>\n",
       "    <tr>\n",
       "      <th>144965</th>\n",
       "      <td>1569369600</td>\n",
       "      <td>1</td>\n",
       "      <td>1</td>\n",
       "      <td>0</td>\n",
       "      <td>0</td>\n",
       "      <td>0</td>\n",
       "      <td>0</td>\n",
       "      <td>1</td>\n",
       "    </tr>\n",
       "    <tr>\n",
       "      <th>175025</th>\n",
       "      <td>1586131200</td>\n",
       "      <td>1</td>\n",
       "      <td>0</td>\n",
       "      <td>1</td>\n",
       "      <td>0</td>\n",
       "      <td>1</td>\n",
       "      <td>0</td>\n",
       "      <td>0</td>\n",
       "    </tr>\n",
       "    <tr>\n",
       "      <th>109783</th>\n",
       "      <td>1548720000</td>\n",
       "      <td>1</td>\n",
       "      <td>0</td>\n",
       "      <td>1</td>\n",
       "      <td>0</td>\n",
       "      <td>1</td>\n",
       "      <td>0</td>\n",
       "      <td>0</td>\n",
       "    </tr>\n",
       "    <tr>\n",
       "      <th>...</th>\n",
       "      <td>...</td>\n",
       "      <td>...</td>\n",
       "      <td>...</td>\n",
       "      <td>...</td>\n",
       "      <td>...</td>\n",
       "      <td>...</td>\n",
       "      <td>...</td>\n",
       "      <td>...</td>\n",
       "    </tr>\n",
       "    <tr>\n",
       "      <th>192130</th>\n",
       "      <td>1594598400</td>\n",
       "      <td>1</td>\n",
       "      <td>1</td>\n",
       "      <td>0</td>\n",
       "      <td>0</td>\n",
       "      <td>0</td>\n",
       "      <td>0</td>\n",
       "      <td>1</td>\n",
       "    </tr>\n",
       "    <tr>\n",
       "      <th>282507</th>\n",
       "      <td>1631664000</td>\n",
       "      <td>1</td>\n",
       "      <td>1</td>\n",
       "      <td>0</td>\n",
       "      <td>0</td>\n",
       "      <td>0</td>\n",
       "      <td>0</td>\n",
       "      <td>1</td>\n",
       "    </tr>\n",
       "    <tr>\n",
       "      <th>133302</th>\n",
       "      <td>1562716800</td>\n",
       "      <td>1</td>\n",
       "      <td>0</td>\n",
       "      <td>1</td>\n",
       "      <td>0</td>\n",
       "      <td>1</td>\n",
       "      <td>0</td>\n",
       "      <td>0</td>\n",
       "    </tr>\n",
       "    <tr>\n",
       "      <th>278746</th>\n",
       "      <td>1629849600</td>\n",
       "      <td>1</td>\n",
       "      <td>0</td>\n",
       "      <td>1</td>\n",
       "      <td>0</td>\n",
       "      <td>1</td>\n",
       "      <td>0</td>\n",
       "      <td>0</td>\n",
       "    </tr>\n",
       "    <tr>\n",
       "      <th>213370</th>\n",
       "      <td>1603238400</td>\n",
       "      <td>0</td>\n",
       "      <td>1</td>\n",
       "      <td>0</td>\n",
       "      <td>0</td>\n",
       "      <td>1</td>\n",
       "      <td>0</td>\n",
       "      <td>0</td>\n",
       "    </tr>\n",
       "  </tbody>\n",
       "</table>\n",
       "<p>202454 rows × 8 columns</p>\n",
       "</div>"
      ],
      "text/plain": [
       "        data_suporte  acesso_remoto_suporte  cpf  cnpj  \\\n",
       "177058    1587945600                      1    0     1   \n",
       "231082    1611792000                      1    0     1   \n",
       "144965    1569369600                      1    1     0   \n",
       "175025    1586131200                      1    0     1   \n",
       "109783    1548720000                      1    0     1   \n",
       "...              ...                    ...  ...   ...   \n",
       "192130    1594598400                      1    1     0   \n",
       "282507    1631664000                      1    1     0   \n",
       "133302    1562716800                      1    0     1   \n",
       "278746    1629849600                      1    0     1   \n",
       "213370    1603238400                      0    1     0   \n",
       "\n",
       "        midia_certificado_Cartão  midia_certificado_Nenhum  \\\n",
       "177058                         0                         1   \n",
       "231082                         0                         1   \n",
       "144965                         0                         0   \n",
       "175025                         0                         1   \n",
       "109783                         0                         1   \n",
       "...                          ...                       ...   \n",
       "192130                         0                         0   \n",
       "282507                         0                         0   \n",
       "133302                         0                         1   \n",
       "278746                         0                         1   \n",
       "213370                         0                         1   \n",
       "\n",
       "        midia_certificado_Pocket  midia_certificado_Token  \n",
       "177058                         0                        0  \n",
       "231082                         0                        0  \n",
       "144965                         0                        1  \n",
       "175025                         0                        0  \n",
       "109783                         0                        0  \n",
       "...                          ...                      ...  \n",
       "192130                         0                        1  \n",
       "282507                         0                        1  \n",
       "133302                         0                        0  \n",
       "278746                         0                        0  \n",
       "213370                         0                        0  \n",
       "\n",
       "[202454 rows x 8 columns]"
      ]
     },
     "execution_count": 23,
     "metadata": {},
     "output_type": "execute_result"
    }
   ],
   "source": [
    "X = train.drop(['motivo_suporte'], axis=1)\n",
    "# X.drop(['data_suporte'], axis=1, inplace=True)\n",
    "y = train['motivo_suporte']\n",
    "print(X.shape)\n",
    "print(y.shape)\n",
    "X"
   ]
  },
  {
   "cell_type": "code",
   "execution_count": 33,
   "metadata": {
    "colab": {
     "base_uri": "https://localhost:8080/"
    },
    "executionInfo": {
     "elapsed": 36169,
     "status": "ok",
     "timestamp": 1638238322415,
     "user": {
      "displayName": "Danillo Gontijo",
      "photoUrl": "https://lh3.googleusercontent.com/a-/AOh14Gg1h8fFNNNJjKINUiMNghzQ79AtxSDNPOUmBW0B=s64",
      "userId": "07616685861784891937"
     },
     "user_tz": 180
    },
    "id": "1JnrOl1rczOq",
    "outputId": "9481d4a8-c9ae-4327-972a-8de902c0ca84"
   },
   "outputs": [
    {
     "data": {
      "text/plain": [
       "RandomForestClassifier(n_estimators=300, random_state=42)"
      ]
     },
     "execution_count": 33,
     "metadata": {},
     "output_type": "execute_result"
    }
   ],
   "source": [
    "model = RandomForestClassifier(random_state=42, n_estimators=300)\n",
    "model.fit(X, y)"
   ]
  },
  {
   "cell_type": "markdown",
   "metadata": {
    "id": "65cSr1UWnhZG"
   },
   "source": [
    "# CRISP-DM: Avaliação"
   ]
  },
  {
   "cell_type": "markdown",
   "metadata": {
    "id": "gj0ujlr9pDz4"
   },
   "source": [
    "## Imports\n"
   ]
  },
  {
   "cell_type": "code",
   "execution_count": 25,
   "metadata": {
    "executionInfo": {
     "elapsed": 279,
     "status": "ok",
     "timestamp": 1638239436325,
     "user": {
      "displayName": "Danillo Gontijo",
      "photoUrl": "https://lh3.googleusercontent.com/a-/AOh14Gg1h8fFNNNJjKINUiMNghzQ79AtxSDNPOUmBW0B=s64",
      "userId": "07616685861784891937"
     },
     "user_tz": 180
    },
    "id": "B6CuK037pGPF"
   },
   "outputs": [],
   "source": [
    "from sklearn.metrics import classification_report, confusion_matrix, accuracy_score, roc_curve, auc, mean_squared_error"
   ]
  },
  {
   "cell_type": "markdown",
   "metadata": {
    "id": "caSvHTL9nla8"
   },
   "source": [
    "## Preparar os dados de validação"
   ]
  },
  {
   "cell_type": "code",
   "execution_count": 26,
   "metadata": {
    "colab": {
     "base_uri": "https://localhost:8080/",
     "height": 444
    },
    "executionInfo": {
     "elapsed": 313,
     "status": "ok",
     "timestamp": 1638238731962,
     "user": {
      "displayName": "Danillo Gontijo",
      "photoUrl": "https://lh3.googleusercontent.com/a-/AOh14Gg1h8fFNNNJjKINUiMNghzQ79AtxSDNPOUmBW0B=s64",
      "userId": "07616685861784891937"
     },
     "user_tz": 180
    },
    "id": "mhGHNd3AczRy",
    "outputId": "8b3b65a6-39dc-4fad-f6ff-c6d13474e083"
   },
   "outputs": [
    {
     "data": {
      "text/html": [
       "<div>\n",
       "<style scoped>\n",
       "    .dataframe tbody tr th:only-of-type {\n",
       "        vertical-align: middle;\n",
       "    }\n",
       "\n",
       "    .dataframe tbody tr th {\n",
       "        vertical-align: top;\n",
       "    }\n",
       "\n",
       "    .dataframe thead th {\n",
       "        text-align: right;\n",
       "    }\n",
       "</style>\n",
       "<table border=\"1\" class=\"dataframe\">\n",
       "  <thead>\n",
       "    <tr style=\"text-align: right;\">\n",
       "      <th></th>\n",
       "      <th>data_suporte</th>\n",
       "      <th>motivo_suporte</th>\n",
       "      <th>acesso_remoto_suporte</th>\n",
       "      <th>cpf</th>\n",
       "      <th>cnpj</th>\n",
       "      <th>midia_certificado_Cartão</th>\n",
       "      <th>midia_certificado_Nenhum</th>\n",
       "      <th>midia_certificado_Pocket</th>\n",
       "      <th>midia_certificado_Token</th>\n",
       "    </tr>\n",
       "  </thead>\n",
       "  <tbody>\n",
       "    <tr>\n",
       "      <th>48158</th>\n",
       "      <td>1515024000</td>\n",
       "      <td>117</td>\n",
       "      <td>1</td>\n",
       "      <td>0</td>\n",
       "      <td>1</td>\n",
       "      <td>0</td>\n",
       "      <td>0</td>\n",
       "      <td>0</td>\n",
       "      <td>1</td>\n",
       "    </tr>\n",
       "    <tr>\n",
       "      <th>59875</th>\n",
       "      <td>1520899200</td>\n",
       "      <td>137</td>\n",
       "      <td>0</td>\n",
       "      <td>0</td>\n",
       "      <td>1</td>\n",
       "      <td>0</td>\n",
       "      <td>1</td>\n",
       "      <td>0</td>\n",
       "      <td>0</td>\n",
       "    </tr>\n",
       "    <tr>\n",
       "      <th>239605</th>\n",
       "      <td>1615420800</td>\n",
       "      <td>2</td>\n",
       "      <td>0</td>\n",
       "      <td>0</td>\n",
       "      <td>1</td>\n",
       "      <td>0</td>\n",
       "      <td>1</td>\n",
       "      <td>0</td>\n",
       "      <td>0</td>\n",
       "    </tr>\n",
       "    <tr>\n",
       "      <th>57554</th>\n",
       "      <td>1519776000</td>\n",
       "      <td>78</td>\n",
       "      <td>1</td>\n",
       "      <td>0</td>\n",
       "      <td>1</td>\n",
       "      <td>0</td>\n",
       "      <td>1</td>\n",
       "      <td>0</td>\n",
       "      <td>0</td>\n",
       "    </tr>\n",
       "    <tr>\n",
       "      <th>164016</th>\n",
       "      <td>1580256000</td>\n",
       "      <td>4</td>\n",
       "      <td>1</td>\n",
       "      <td>0</td>\n",
       "      <td>1</td>\n",
       "      <td>0</td>\n",
       "      <td>1</td>\n",
       "      <td>0</td>\n",
       "      <td>0</td>\n",
       "    </tr>\n",
       "    <tr>\n",
       "      <th>...</th>\n",
       "      <td>...</td>\n",
       "      <td>...</td>\n",
       "      <td>...</td>\n",
       "      <td>...</td>\n",
       "      <td>...</td>\n",
       "      <td>...</td>\n",
       "      <td>...</td>\n",
       "      <td>...</td>\n",
       "      <td>...</td>\n",
       "    </tr>\n",
       "    <tr>\n",
       "      <th>143997</th>\n",
       "      <td>1568851200</td>\n",
       "      <td>82</td>\n",
       "      <td>1</td>\n",
       "      <td>0</td>\n",
       "      <td>1</td>\n",
       "      <td>0</td>\n",
       "      <td>1</td>\n",
       "      <td>0</td>\n",
       "      <td>0</td>\n",
       "    </tr>\n",
       "    <tr>\n",
       "      <th>21639</th>\n",
       "      <td>1498694400</td>\n",
       "      <td>78</td>\n",
       "      <td>1</td>\n",
       "      <td>0</td>\n",
       "      <td>1</td>\n",
       "      <td>0</td>\n",
       "      <td>1</td>\n",
       "      <td>0</td>\n",
       "      <td>0</td>\n",
       "    </tr>\n",
       "    <tr>\n",
       "      <th>184838</th>\n",
       "      <td>1591660800</td>\n",
       "      <td>39</td>\n",
       "      <td>1</td>\n",
       "      <td>1</td>\n",
       "      <td>0</td>\n",
       "      <td>0</td>\n",
       "      <td>1</td>\n",
       "      <td>0</td>\n",
       "      <td>0</td>\n",
       "    </tr>\n",
       "    <tr>\n",
       "      <th>43874</th>\n",
       "      <td>1512000000</td>\n",
       "      <td>78</td>\n",
       "      <td>0</td>\n",
       "      <td>0</td>\n",
       "      <td>1</td>\n",
       "      <td>0</td>\n",
       "      <td>1</td>\n",
       "      <td>0</td>\n",
       "      <td>0</td>\n",
       "    </tr>\n",
       "    <tr>\n",
       "      <th>50576</th>\n",
       "      <td>1516233600</td>\n",
       "      <td>96</td>\n",
       "      <td>0</td>\n",
       "      <td>1</td>\n",
       "      <td>0</td>\n",
       "      <td>0</td>\n",
       "      <td>1</td>\n",
       "      <td>0</td>\n",
       "      <td>0</td>\n",
       "    </tr>\n",
       "  </tbody>\n",
       "</table>\n",
       "<p>86767 rows × 9 columns</p>\n",
       "</div>"
      ],
      "text/plain": [
       "        data_suporte  motivo_suporte  acesso_remoto_suporte  cpf  cnpj  \\\n",
       "48158     1515024000             117                      1    0     1   \n",
       "59875     1520899200             137                      0    0     1   \n",
       "239605    1615420800               2                      0    0     1   \n",
       "57554     1519776000              78                      1    0     1   \n",
       "164016    1580256000               4                      1    0     1   \n",
       "...              ...             ...                    ...  ...   ...   \n",
       "143997    1568851200              82                      1    0     1   \n",
       "21639     1498694400              78                      1    0     1   \n",
       "184838    1591660800              39                      1    1     0   \n",
       "43874     1512000000              78                      0    0     1   \n",
       "50576     1516233600              96                      0    1     0   \n",
       "\n",
       "        midia_certificado_Cartão  midia_certificado_Nenhum  \\\n",
       "48158                          0                         0   \n",
       "59875                          0                         1   \n",
       "239605                         0                         1   \n",
       "57554                          0                         1   \n",
       "164016                         0                         1   \n",
       "...                          ...                       ...   \n",
       "143997                         0                         1   \n",
       "21639                          0                         1   \n",
       "184838                         0                         1   \n",
       "43874                          0                         1   \n",
       "50576                          0                         1   \n",
       "\n",
       "        midia_certificado_Pocket  midia_certificado_Token  \n",
       "48158                          0                        1  \n",
       "59875                          0                        0  \n",
       "239605                         0                        0  \n",
       "57554                          0                        0  \n",
       "164016                         0                        0  \n",
       "...                          ...                      ...  \n",
       "143997                         0                        0  \n",
       "21639                          0                        0  \n",
       "184838                         0                        0  \n",
       "43874                          0                        0  \n",
       "50576                          0                        0  \n",
       "\n",
       "[86767 rows x 9 columns]"
      ]
     },
     "execution_count": 26,
     "metadata": {},
     "output_type": "execute_result"
    }
   ],
   "source": [
    "# Imputando valor zero onde nao tem cpf ou cnpj\n",
    "for col in teste_split[['cpf','cnpj']].columns:\n",
    "    teste_split[col] = np.where(teste_split[col].isnull(), 0, 1)\n",
    "\n",
    "teste_dumies = pd.get_dummies(data=teste_split, columns=['midia_certificado'])\n",
    "\n",
    "# Acesso Remoto Binário 1-Sim e 0-Não\n",
    "teste_dumies['acesso_remoto_suporte'] = teste_dumies['acesso_remoto_suporte'].map({'Sim': 1, 'Não': 0})\n",
    "\n",
    "# Converte coluna motivo_suporte (target) para valores numéricos categóricos \n",
    "teste_dumies['motivo_suporte'] = teste_dumies['motivo_suporte'].astype('category')\n",
    "cat_columns = teste_dumies.select_dtypes(['category']).columns\n",
    "teste_dumies[cat_columns] = teste_dumies[cat_columns].apply(lambda x: x.cat.codes)\n",
    "\n",
    "teste_split = teste_dumies\n",
    "teste_split"
   ]
  },
  {
   "cell_type": "markdown",
   "metadata": {
    "id": "gI_xsQG9oSGC"
   },
   "source": [
    "## Separar data target e features"
   ]
  },
  {
   "cell_type": "code",
   "execution_count": 27,
   "metadata": {
    "colab": {
     "base_uri": "https://localhost:8080/",
     "height": 478
    },
    "executionInfo": {
     "elapsed": 363,
     "status": "ok",
     "timestamp": 1638238739312,
     "user": {
      "displayName": "Danillo Gontijo",
      "photoUrl": "https://lh3.googleusercontent.com/a-/AOh14Gg1h8fFNNNJjKINUiMNghzQ79AtxSDNPOUmBW0B=s64",
      "userId": "07616685861784891937"
     },
     "user_tz": 180
    },
    "id": "h_2nLPGAoSq0",
    "outputId": "c511a80b-c2dd-4cfc-a113-9c555f8e051a"
   },
   "outputs": [
    {
     "name": "stdout",
     "output_type": "stream",
     "text": [
      "(86767, 8)\n",
      "(86767,)\n"
     ]
    }
   ],
   "source": [
    "X = teste_split.drop(['motivo_suporte'], axis=1)\n",
    "y = teste_split['motivo_suporte']\n",
    "print(X.shape)\n",
    "print(y.shape)"
   ]
  },
  {
   "cell_type": "markdown",
   "metadata": {
    "id": "RTtJYMcEoclp"
   },
   "source": [
    "## Realizar predição para conjunto de validação"
   ]
  },
  {
   "cell_type": "code",
   "execution_count": 34,
   "metadata": {
    "executionInfo": {
     "elapsed": 22410,
     "status": "ok",
     "timestamp": 1638239200703,
     "user": {
      "displayName": "Danillo Gontijo",
      "photoUrl": "https://lh3.googleusercontent.com/a-/AOh14Gg1h8fFNNNJjKINUiMNghzQ79AtxSDNPOUmBW0B=s64",
      "userId": "07616685861784891937"
     },
     "user_tz": 180
    },
    "id": "c6_vNTWiod9r"
   },
   "outputs": [],
   "source": [
    "y_pred = model.predict(X)\n",
    "y_proba = model.predict_proba(X)"
   ]
  },
  {
   "cell_type": "markdown",
   "metadata": {
    "id": "__zEt1LxoqWY"
   },
   "source": [
    "## Calcular métricas de classificação\n"
   ]
  },
  {
   "cell_type": "code",
   "execution_count": 35,
   "metadata": {
    "colab": {
     "base_uri": "https://localhost:8080/"
    },
    "executionInfo": {
     "elapsed": 318,
     "status": "ok",
     "timestamp": 1638238929450,
     "user": {
      "displayName": "Danillo Gontijo",
      "photoUrl": "https://lh3.googleusercontent.com/a-/AOh14Gg1h8fFNNNJjKINUiMNghzQ79AtxSDNPOUmBW0B=s64",
      "userId": "07616685861784891937"
     },
     "user_tz": 180
    },
    "id": "3SniXBKAorPj",
    "outputId": "693e12b9-f10e-4736-b690-c7f07925eb61"
   },
   "outputs": [
    {
     "data": {
      "text/plain": [
       "0.39829658741226504"
      ]
     },
     "execution_count": 35,
     "metadata": {},
     "output_type": "execute_result"
    }
   ],
   "source": [
    "accuracy_score(y, y_pred)"
   ]
  },
  {
   "cell_type": "markdown",
   "metadata": {
    "id": "amU1D1fzqYvt"
   },
   "source": [
    "### MSE"
   ]
  },
  {
   "cell_type": "code",
   "execution_count": 36,
   "metadata": {
    "colab": {
     "base_uri": "https://localhost:8080/"
    },
    "executionInfo": {
     "elapsed": 447,
     "status": "ok",
     "timestamp": 1638239449672,
     "user": {
      "displayName": "Danillo Gontijo",
      "photoUrl": "https://lh3.googleusercontent.com/a-/AOh14Gg1h8fFNNNJjKINUiMNghzQ79AtxSDNPOUmBW0B=s64",
      "userId": "07616685861784891937"
     },
     "user_tz": 180
    },
    "id": "K1tAL6gXpj9h",
    "outputId": "bc836bda-255c-4f11-bbe7-3fa2b9b8c84d"
   },
   "outputs": [
    {
     "name": "stdout",
     "output_type": "stream",
     "text": [
      "Mean Squared Error: 1340.5526064056612\n"
     ]
    }
   ],
   "source": [
    "print('Mean Squared Error:', mean_squared_error(y, y_pred))"
   ]
  },
  {
   "cell_type": "markdown",
   "metadata": {
    "id": "VYnnWeTzujAU"
   },
   "source": [
    "## Micro e Macro-F1"
   ]
  },
  {
   "cell_type": "code",
   "execution_count": 37,
   "metadata": {
    "colab": {
     "base_uri": "https://localhost:8080/"
    },
    "executionInfo": {
     "elapsed": 801,
     "status": "ok",
     "timestamp": 1638239515884,
     "user": {
      "displayName": "Danillo Gontijo",
      "photoUrl": "https://lh3.googleusercontent.com/a-/AOh14Gg1h8fFNNNJjKINUiMNghzQ79AtxSDNPOUmBW0B=s64",
      "userId": "07616685861784891937"
     },
     "user_tz": 180
    },
    "id": "u8RkNXZGqauz",
    "outputId": "ce87873e-c85e-49c6-a421-d86fdb383035"
   },
   "outputs": [
    {
     "name": "stdout",
     "output_type": "stream",
     "text": [
      "              precision    recall  f1-score   support\n",
      "\n",
      "           0       0.23      0.03      0.05       116\n",
      "           1       0.27      0.04      0.07       498\n",
      "           2       0.46      0.79      0.58      6890\n",
      "           3       0.31      0.02      0.03       300\n",
      "           4       0.28      0.11      0.16      1820\n",
      "           5       0.38      0.12      0.19       635\n",
      "           6       0.14      0.02      0.03        54\n",
      "           7       0.30      0.10      0.15      1399\n",
      "           8       0.00      0.00      0.00         3\n",
      "           9       0.35      0.03      0.05       273\n",
      "          10       0.36      0.04      0.07       323\n",
      "          11       0.29      0.01      0.03       298\n",
      "          12       0.35      0.19      0.25        31\n",
      "          13       0.53      0.18      0.27       500\n",
      "          14       0.36      0.12      0.18       108\n",
      "          15       0.45      0.28      0.34      1416\n",
      "          16       0.43      0.80      0.56      3112\n",
      "          17       0.33      0.27      0.30       424\n",
      "          18       0.60      0.27      0.37        55\n",
      "          19       0.54      0.65      0.59       188\n",
      "          20       0.48      0.40      0.44        30\n",
      "          21       0.39      0.33      0.36        27\n",
      "          22       0.47      0.52      0.49       118\n",
      "          23       0.31      0.54      0.39       743\n",
      "          24       0.49      0.16      0.24       184\n",
      "          25       0.39      0.38      0.38      2401\n",
      "          26       0.43      0.21      0.29        42\n",
      "          27       0.45      0.18      0.25        74\n",
      "          28       0.40      0.41      0.40      2090\n",
      "          29       0.48      0.15      0.22       549\n",
      "          30       0.00      0.00      0.00         3\n",
      "          31       0.39      0.10      0.16       374\n",
      "          32       0.00      0.00      0.00         1\n",
      "          33       0.00      0.00      0.00        10\n",
      "          34       0.00      0.00      0.00         4\n",
      "          35       0.00      0.00      0.00        16\n",
      "          36       0.38      0.05      0.09       278\n",
      "          37       0.00      0.00      0.00        14\n",
      "          38       0.16      0.02      0.04       141\n",
      "          39       0.26      0.56      0.36      2499\n",
      "          40       0.26      0.19      0.22       641\n",
      "          41       0.25      0.34      0.29      1948\n",
      "          42       0.24      0.36      0.29      1870\n",
      "          43       0.22      0.12      0.15       390\n",
      "          44       0.00      0.00      0.00        20\n",
      "          45       0.25      0.03      0.05       115\n",
      "          46       0.29      0.50      0.37        18\n",
      "          47       0.20      0.08      0.11       518\n",
      "          48       0.21      0.06      0.10       272\n",
      "          49       0.40      0.15      0.22       606\n",
      "          50       0.43      0.33      0.37      1710\n",
      "          51       0.35      0.11      0.16       252\n",
      "          52       1.00      0.50      0.67         6\n",
      "          53       0.20      0.14      0.17         7\n",
      "          54       0.50      0.19      0.28        21\n",
      "          55       0.00      0.00      0.00         9\n",
      "          56       0.50      0.04      0.08        23\n",
      "          57       0.45      0.09      0.16        53\n",
      "          58       0.00      0.00      0.00         1\n",
      "          59       0.47      0.08      0.14       101\n",
      "          60       0.48      0.11      0.18       347\n",
      "          61       0.14      0.05      0.07        20\n",
      "          62       0.26      0.09      0.13       271\n",
      "          63       0.00      0.00      0.00        23\n",
      "          64       0.56      0.05      0.08       198\n",
      "          65       0.11      0.01      0.01       174\n",
      "          66       0.33      0.04      0.07        24\n",
      "          67       0.17      0.02      0.03       154\n",
      "          68       0.00      0.00      0.00        45\n",
      "          69       0.62      0.23      0.33        88\n",
      "          70       0.33      0.04      0.06        28\n",
      "          71       0.67      0.07      0.12        59\n",
      "          72       0.36      0.03      0.06       122\n",
      "          73       0.30      0.09      0.14       429\n",
      "          74       0.00      0.00      0.00         1\n",
      "          75       0.32      0.07      0.11       862\n",
      "          76       0.50      0.58      0.53       196\n",
      "          77       0.42      0.09      0.15      1100\n",
      "          78       0.47      0.80      0.59     10787\n",
      "          79       0.79      0.44      0.56        25\n",
      "          80       0.52      0.42      0.47       162\n",
      "          81       0.36      0.37      0.36      2802\n",
      "          82       0.43      0.06      0.10       694\n",
      "          83       0.38      0.21      0.27      3139\n",
      "          84       1.00      1.00      1.00         1\n",
      "          85       0.42      0.10      0.16       189\n",
      "          86       0.46      0.11      0.18       992\n",
      "          87       0.40      0.40      0.40       249\n",
      "          88       0.92      0.55      0.69        20\n",
      "          89       0.51      0.12      0.20       333\n",
      "          90       0.50      0.12      0.20        33\n",
      "          91       0.31      0.24      0.27      1348\n",
      "          92       1.00      0.33      0.50         3\n",
      "          93       0.47      0.74      0.58      2034\n",
      "          94       0.37      0.73      0.49      3991\n",
      "          95       0.42      0.15      0.22        96\n",
      "          96       0.39      0.18      0.25      2065\n",
      "          97       0.00      0.00      0.00         6\n",
      "          98       1.00      0.17      0.29        12\n",
      "          99       0.44      0.08      0.14        50\n",
      "         100       0.00      0.00      0.00         1\n",
      "         101       0.27      0.10      0.15       469\n",
      "         102       0.48      0.17      0.25       188\n",
      "         103       0.38      0.11      0.18        88\n",
      "         104       0.41      0.12      0.18      1092\n",
      "         105       0.50      0.33      0.40         3\n",
      "         106       0.41      0.36      0.38        86\n",
      "         107       0.50      0.25      0.33         4\n",
      "         108       0.00      0.00      0.00        10\n",
      "         109       0.27      0.10      0.14       467\n",
      "         110       0.38      0.14      0.21       646\n",
      "         111       0.25      0.58      0.35        38\n",
      "         112       0.00      0.00      0.00        21\n",
      "         113       0.40      0.21      0.28      1501\n",
      "         114       0.00      0.00      0.00         3\n",
      "         115       0.00      0.00      0.00         2\n",
      "         116       0.25      0.04      0.06        57\n",
      "         117       0.44      0.09      0.15      1460\n",
      "         118       0.00      0.00      0.00         1\n",
      "         119       0.00      0.00      0.00         1\n",
      "         120       0.38      0.10      0.16       232\n",
      "         121       0.42      0.10      0.16        49\n",
      "         122       0.40      0.05      0.09        40\n",
      "         123       0.29      0.04      0.08        45\n",
      "         124       1.00      0.12      0.22         8\n",
      "         125       0.17      0.17      0.17         6\n",
      "         126       0.38      0.09      0.14        67\n",
      "         127       1.00      0.05      0.10        38\n",
      "         128       0.00      0.00      0.00         2\n",
      "         129       0.00      0.00      0.00         1\n",
      "         130       0.00      0.00      0.00         2\n",
      "         131       0.33      0.17      0.22        18\n",
      "         132       0.00      0.00      0.00         1\n",
      "         133       1.00      1.00      1.00         3\n",
      "         134       1.00      1.00      1.00         9\n",
      "         135       1.00      1.00      1.00         2\n",
      "         136       1.00      1.00      1.00         4\n",
      "         137       0.40      0.18      0.24      2531\n",
      "         138       0.00      0.00      0.00        19\n",
      "         139       0.46      0.23      0.31        26\n",
      "         140       0.36      0.14      0.20        29\n",
      "         141       0.45      0.19      0.27       378\n",
      "         142       0.67      0.06      0.11        33\n",
      "         143       1.00      0.08      0.14        13\n",
      "         144       0.49      0.10      0.16       350\n",
      "         145       0.50      0.50      0.50         4\n",
      "         146       0.37      0.30      0.33      3055\n",
      "         147       0.42      0.12      0.18      1171\n",
      "         148       0.00      0.00      0.00         1\n",
      "         149       0.35      0.15      0.21       733\n",
      "         150       0.45      0.09      0.15       143\n",
      "         151       0.31      0.08      0.12       106\n",
      "         152       0.33      0.03      0.06        29\n",
      "         153       0.00      0.00      0.00         7\n",
      "         154       0.39      0.46      0.42       308\n",
      "         155       0.40      0.22      0.29         9\n",
      "         156       0.00      0.00      0.00        20\n",
      "         157       0.00      0.00      0.00         5\n",
      "         158       0.40      0.10      0.15        21\n",
      "         159       0.28      0.07      0.11       350\n",
      "         160       0.43      0.14      0.21        22\n",
      "         161       0.50      0.02      0.05       166\n",
      "         162       0.19      0.07      0.10        42\n",
      "         163       0.29      0.07      0.11        57\n",
      "         164       0.32      0.08      0.13       602\n",
      "         165       0.00      0.00      0.00        17\n",
      "         166       1.00      0.11      0.20        18\n",
      "         167       0.00      0.00      0.00        10\n",
      "         168       0.00      0.00      0.00        13\n",
      "         169       0.00      0.00      0.00        19\n",
      "         170       0.00      0.00      0.00         1\n",
      "\n",
      "    accuracy                           0.40     86767\n",
      "   macro avg       0.35      0.18      0.21     86767\n",
      "weighted avg       0.39      0.40      0.35     86767\n",
      "\n"
     ]
    },
    {
     "name": "stderr",
     "output_type": "stream",
     "text": [
      "/Users/edson/Trabalho_Final_ML/venv/lib/python3.10/site-packages/sklearn/metrics/_classification.py:1308: UndefinedMetricWarning: Precision and F-score are ill-defined and being set to 0.0 in labels with no predicted samples. Use `zero_division` parameter to control this behavior.\n",
      "  _warn_prf(average, modifier, msg_start, len(result))\n",
      "/Users/edson/Trabalho_Final_ML/venv/lib/python3.10/site-packages/sklearn/metrics/_classification.py:1308: UndefinedMetricWarning: Precision and F-score are ill-defined and being set to 0.0 in labels with no predicted samples. Use `zero_division` parameter to control this behavior.\n",
      "  _warn_prf(average, modifier, msg_start, len(result))\n",
      "/Users/edson/Trabalho_Final_ML/venv/lib/python3.10/site-packages/sklearn/metrics/_classification.py:1308: UndefinedMetricWarning: Precision and F-score are ill-defined and being set to 0.0 in labels with no predicted samples. Use `zero_division` parameter to control this behavior.\n",
      "  _warn_prf(average, modifier, msg_start, len(result))\n"
     ]
    }
   ],
   "source": [
    "print(classification_report(y,y_pred))"
   ]
  },
  {
   "cell_type": "code",
   "execution_count": 38,
   "metadata": {
    "colab": {
     "base_uri": "https://localhost:8080/"
    },
    "executionInfo": {
     "elapsed": 256,
     "status": "ok",
     "timestamp": 1638240013670,
     "user": {
      "displayName": "Danillo Gontijo",
      "photoUrl": "https://lh3.googleusercontent.com/a-/AOh14Gg1h8fFNNNJjKINUiMNghzQ79AtxSDNPOUmBW0B=s64",
      "userId": "07616685861784891937"
     },
     "user_tz": 180
    },
    "id": "KlgIm-QotSDb",
    "outputId": "77e93913-f445-4089-9d40-070ffef5f98b"
   },
   "outputs": [
    {
     "name": "stdout",
     "output_type": "stream",
     "text": [
      "precision: [0.23076923 0.26582278 0.45518453 0.3125     0.2777036  0.38164251\n",
      " 0.14285714 0.30042017 0.         0.34782609 0.36363636 0.28571429\n",
      " 0.35294118 0.52662722 0.36111111 0.44748858 0.42795957 0.33237822\n",
      " 0.6        0.53947368 0.48       0.39130435 0.46923077 0.30775134\n",
      " 0.49152542 0.38817481 0.42857143 0.44827586 0.39603504 0.47619048\n",
      " 0.         0.39393939 0.         0.         0.         0.\n",
      " 0.375      0.         0.15789474 0.26045135 0.25635593 0.24867525\n",
      " 0.24244631 0.22439024 0.         0.25       0.29032258 0.203125\n",
      " 0.2125     0.3982684  0.42553191 0.35064935 1.         0.2\n",
      " 0.5        0.         0.5        0.45454545 0.         0.47058824\n",
      " 0.48148148 0.14285714 0.25531915 0.         0.5625     0.11111111\n",
      " 0.33333333 0.16666667 0.         0.625      0.33333333 0.66666667\n",
      " 0.36363636 0.3015873  0.         0.32417582 0.49561404 0.42040816\n",
      " 0.46921202 0.78571429 0.52307692 0.3593859  0.43157895 0.37970353\n",
      " 1.         0.42222222 0.46351931 0.40160643 0.91666667 0.5125\n",
      " 0.5        0.30841121 1.         0.473125   0.37234719 0.42424242\n",
      " 0.3940678  0.         1.         0.44444444 0.         0.2716763\n",
      " 0.48484848 0.38461538 0.41401274 0.5        0.40789474 0.5\n",
      " 0.         0.26627219 0.37651822 0.25       0.         0.39900867\n",
      " 0.         0.         0.25       0.43870968 0.         0.\n",
      " 0.37704918 0.41666667 0.4        0.28571429 1.         0.16666667\n",
      " 0.375      1.         0.         0.         0.         0.33333333\n",
      " 0.         1.         1.         1.         1.         0.39910314\n",
      " 0.         0.46153846 0.36363636 0.45283019 0.66666667 1.\n",
      " 0.49275362 0.5        0.37096131 0.41945289 0.         0.3485342\n",
      " 0.44827586 0.30769231 0.33333333 0.         0.39275766 0.4\n",
      " 0.         0.         0.4        0.28395062 0.42857143 0.5\n",
      " 0.1875     0.28571429 0.32214765 0.         1.         0.\n",
      " 0.         0.         0.        ]\n",
      "recall: [0.02586207 0.04216867 0.78940493 0.01666667 0.11428571 0.12440945\n",
      " 0.01851852 0.10221587 0.         0.02930403 0.0371517  0.01342282\n",
      " 0.19354839 0.178      0.12037037 0.27683616 0.80269923 0.27358491\n",
      " 0.27272727 0.65425532 0.4        0.33333333 0.51694915 0.5397039\n",
      " 0.1576087  0.37734277 0.21428571 0.17567568 0.41100478 0.14571949\n",
      " 0.         0.10427807 0.         0.         0.         0.\n",
      " 0.05395683 0.         0.0212766  0.56342537 0.18876755 0.33726899\n",
      " 0.35614973 0.11794872 0.         0.02608696 0.5        0.07528958\n",
      " 0.0625     0.15181518 0.32748538 0.10714286 0.5        0.14285714\n",
      " 0.19047619 0.         0.04347826 0.09433962 0.         0.07920792\n",
      " 0.11239193 0.05       0.08856089 0.         0.04545455 0.00574713\n",
      " 0.04166667 0.01948052 0.         0.22727273 0.03571429 0.06779661\n",
      " 0.03278689 0.08857809 0.         0.06844548 0.57653061 0.09363636\n",
      " 0.80318902 0.44       0.41975309 0.36759458 0.05907781 0.21216948\n",
      " 1.         0.1005291  0.10887097 0.40160643 0.55       0.12312312\n",
      " 0.12121212 0.24480712 0.33333333 0.74434612 0.73415184 0.14583333\n",
      " 0.18014528 0.         0.16666667 0.08       0.         0.10021322\n",
      " 0.17021277 0.11363636 0.11904762 0.33333333 0.36046512 0.25\n",
      " 0.         0.09635974 0.14396285 0.57894737 0.         0.21452365\n",
      " 0.         0.         0.03508772 0.09315068 0.         0.\n",
      " 0.09913793 0.10204082 0.05       0.04444444 0.125      0.16666667\n",
      " 0.08955224 0.05263158 0.         0.         0.         0.16666667\n",
      " 0.         1.         1.         1.         1.         0.17581983\n",
      " 0.         0.23076923 0.13793103 0.19047619 0.06060606 0.07692308\n",
      " 0.09714286 0.5        0.30441899 0.11784799 0.         0.14597544\n",
      " 0.09090909 0.0754717  0.03448276 0.         0.45779221 0.22222222\n",
      " 0.         0.         0.0952381  0.06571429 0.13636364 0.02409639\n",
      " 0.07142857 0.07017544 0.07973422 0.         0.11111111 0.\n",
      " 0.         0.         0.        ]\n",
      "fscore: [0.04651163 0.07279029 0.57741918 0.03164557 0.16193071 0.18764846\n",
      " 0.03278689 0.15253333 0.         0.05405405 0.06741573 0.02564103\n",
      " 0.25       0.26606876 0.18055556 0.34205934 0.55827467 0.30012937\n",
      " 0.375      0.59134615 0.43636364 0.36       0.49193548 0.39198436\n",
      " 0.23868313 0.38268215 0.28571429 0.25242718 0.40338108 0.22315202\n",
      " 0.         0.16490486 0.         0.         0.         0.\n",
      " 0.09433962 0.         0.0375     0.35623023 0.21743037 0.28627451\n",
      " 0.28849903 0.15462185 0.         0.04724409 0.36734694 0.10985915\n",
      " 0.09659091 0.21983274 0.37012558 0.16413374 0.66666667 0.16666667\n",
      " 0.27586207 0.         0.08       0.15625    0.         0.13559322\n",
      " 0.18224299 0.07407407 0.13150685 0.         0.08411215 0.01092896\n",
      " 0.07407407 0.03488372 0.         0.33333333 0.06451613 0.12307692\n",
      " 0.06015038 0.13693694 0.         0.11302682 0.53301887 0.15315985\n",
      " 0.59236975 0.56410256 0.46575342 0.3634439  0.10392902 0.27222563\n",
      " 1.         0.16239316 0.17632653 0.40160643 0.6875     0.19854722\n",
      " 0.19512195 0.27295285 0.5        0.57852503 0.49409781 0.21705426\n",
      " 0.24725823 0.         0.28571429 0.13559322 0.         0.14641745\n",
      " 0.2519685  0.1754386  0.18492176 0.4        0.38271605 0.33333333\n",
      " 0.         0.14150943 0.20828667 0.34920635 0.         0.27902946\n",
      " 0.         0.         0.06153846 0.15367232 0.         0.\n",
      " 0.15699659 0.16393443 0.08888889 0.07692308 0.22222222 0.16666667\n",
      " 0.14457831 0.1        0.         0.         0.         0.22222222\n",
      " 0.         1.         1.         1.         1.         0.24410313\n",
      " 0.         0.30769231 0.2        0.26815642 0.11111111 0.14285714\n",
      " 0.16229117 0.5        0.33441208 0.184      0.         0.20576923\n",
      " 0.15116279 0.12121212 0.0625     0.         0.42278861 0.28571429\n",
      " 0.         0.         0.15384615 0.10672854 0.20689655 0.04597701\n",
      " 0.10344828 0.11267606 0.12782956 0.         0.2        0.\n",
      " 0.         0.         0.        ]\n",
      "support: [  116   498  6890   300  1820   635    54  1399     3   273   323   298\n",
      "    31   500   108  1416  3112   424    55   188    30    27   118   743\n",
      "   184  2401    42    74  2090   549     3   374     1    10     4    16\n",
      "   278    14   141  2499   641  1948  1870   390    20   115    18   518\n",
      "   272   606  1710   252     6     7    21     9    23    53     1   101\n",
      "   347    20   271    23   198   174    24   154    45    88    28    59\n",
      "   122   429     1   862   196  1100 10787    25   162  2802   694  3139\n",
      "     1   189   992   249    20   333    33  1348     3  2034  3991    96\n",
      "  2065     6    12    50     1   469   188    88  1092     3    86     4\n",
      "    10   467   646    38    21  1501     3     2    57  1460     1     1\n",
      "   232    49    40    45     8     6    67    38     2     1     2    18\n",
      "     1     3     9     2     4  2531    19    26    29   378    33    13\n",
      "   350     4  3055  1171     1   733   143   106    29     7   308     9\n",
      "    20     5    21   350    22   166    42    57   602    17    18    10\n",
      "    13    19     1]\n"
     ]
    },
    {
     "name": "stderr",
     "output_type": "stream",
     "text": [
      "/Users/edson/Trabalho_Final_ML/venv/lib/python3.10/site-packages/sklearn/metrics/_classification.py:1308: UndefinedMetricWarning: Precision and F-score are ill-defined and being set to 0.0 in labels with no predicted samples. Use `zero_division` parameter to control this behavior.\n",
      "  _warn_prf(average, modifier, msg_start, len(result))\n"
     ]
    }
   ],
   "source": [
    "from sklearn.metrics import precision_recall_fscore_support as score\n",
    "\n",
    "precision, recall, fscore, support = score(y, y_pred)\n",
    "\n",
    "print('precision: {}'.format(precision))\n",
    "print('recall: {}'.format(recall))\n",
    "print('fscore: {}'.format(fscore))\n",
    "print('support: {}'.format(support))"
   ]
  },
  {
   "cell_type": "code",
   "execution_count": null,
   "metadata": {},
   "outputs": [],
   "source": []
  }
 ],
 "metadata": {
  "colab": {
   "authorship_tag": "ABX9TyNkJb35eklk0v+5PXsMBay8",
   "collapsed_sections": [],
   "name": "Classificacao-Trabalho-Soluti.ipynb",
   "provenance": [],
   "toc_visible": true
  },
  "kernelspec": {
   "display_name": "Python 3 (ipykernel)",
   "language": "python",
   "name": "python3"
  },
  "language_info": {
   "codemirror_mode": {
    "name": "ipython",
    "version": 3
   },
   "file_extension": ".py",
   "mimetype": "text/x-python",
   "name": "python",
   "nbconvert_exporter": "python",
   "pygments_lexer": "ipython3",
   "version": "3.10.0"
  }
 },
 "nbformat": 4,
 "nbformat_minor": 1
}
